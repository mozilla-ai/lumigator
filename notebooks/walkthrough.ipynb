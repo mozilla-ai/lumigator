{
 "cells": [
  {
   "metadata": {},
   "cell_type": "markdown",
   "source": [
    "## Agenda\n",
    "\n",
    "+ Introduction and setup environment (credentials)\n",
    "+ Platform Setup and Walkthrough\n",
    "+ Explanation of and Examination of Thunderbird Ground Truth\n",
    "+ Model Selection ( 1 encoder/decoder), (2 decoder), eval against GPT4\n",
    "+ Run experiment and show results\n",
    "+ Evaluate results and discuss"
   ],
   "id": "7b9f41f6d3dd7c06"
  },
  {
   "metadata": {},
   "cell_type": "markdown",
   "source": "",
   "id": "7aec988928b46a66"
  },
  {
   "metadata": {},
   "cell_type": "markdown",
   "source": "## Foxfooding Introduction and Setup Environment",
   "id": "67f7db1f11253edc"
  },
  {
   "metadata": {},
   "cell_type": "markdown",
   "source": "## Who we are, what we do, about the platform, etc. \n",
   "id": "34a1155b91159d41"
  },
  {
   "metadata": {},
   "cell_type": "markdown",
   "source": "## Platform Setup and Walkthrough",
   "id": "2bb4acfee4aa9bc3"
  },
  {
   "metadata": {},
   "cell_type": "code",
   "outputs": [],
   "execution_count": 2,
   "source": [
    "# TODO Replace with ELB URL \n",
    "API_URL = \"http://127.0.0.1/api/v1\""
   ],
   "id": "32a4f8c18d7ea625"
  },
  {
   "metadata": {
    "ExecuteTime": {
     "end_time": "2024-07-15T17:40:46.180270Z",
     "start_time": "2024-07-15T17:40:46.175012Z"
    }
   },
   "cell_type": "code",
   "source": [
    "import requests\n",
    "from typing import Dict, Any\n",
    "import json\n",
    "\n",
    "def make_request(\n",
    "    url: str,\n",
    "    method: str = \"GET\",\n",
    "    params: Dict[str, Any] = None,\n",
    "    data: Dict[str, Any] = None,\n",
    "    headers: Dict[str, str] = None,\n",
    "    timeout: int = 10\n",
    ") -> requests.Response:\n",
    "    \"\"\"\n",
    "    Make an HTTP request using the requests library.\n",
    "\n",
    "    Args:\n",
    "        url (str)\n",
    "        method (str, optional): The HTTP method to use. Defaults to \"GET\".\n",
    "        params (Dict[str, Any], optional): URL parameters to include in the request.\n",
    "        data (Dict[str, Any], optional): Data to send in the request body.\n",
    "        headers (Dict[str, str], optional): Headers to include in the request.\n",
    "        timeout (int, optional): Timeout for the request in seconds. Defaults to 10.\n",
    "\n",
    "    Returns:\n",
    "        requests.Response: The response object from the request.\n",
    "\n",
    "    Raises:\n",
    "        requests.RequestException\n",
    "    \"\"\"\n",
    "    try:\n",
    "        response = requests.request(\n",
    "            method=method.upper(),\n",
    "            url=url,\n",
    "            params=params,\n",
    "            data=data,\n",
    "            headers=headers,\n",
    "            timeout=timeout\n",
    "        )\n",
    "        response.raise_for_status()\n",
    "        print(f\"{json.dumps(response.json(), indent = 2)}\")\n",
    "    except requests.RequestException as e:\n",
    "        print(f\"Request failed: {e}\")\n",
    "        raise"
   ],
   "id": "a7c44e325af2948c",
   "outputs": [],
   "execution_count": 20
  },
  {
   "metadata": {},
   "cell_type": "code",
   "outputs": [],
   "execution_count": null,
   "source": [
    "# Check a sample URL response\n",
    "make_request(f\"{API_URL}/health\")"
   ],
   "id": "f723ea2555f09c5e"
  },
  {
   "metadata": {},
   "cell_type": "markdown",
   "source": "## Working with Datasets",
   "id": "ae4288d559813138"
  },
  {
   "metadata": {
    "ExecuteTime": {
     "end_time": "2024-07-15T17:51:53.666600Z",
     "start_time": "2024-07-15T17:51:53.471911Z"
    }
   },
   "cell_type": "code",
   "source": [
    "# Show datasets to evaluate\n",
    "make_request(f\"{API_URL}/datasets\")"
   ],
   "id": "b33d0bbb40bf66ac",
   "outputs": [
    {
     "name": "stdout",
     "output_type": "stream",
     "text": [
      "{\n",
      "  \"total\": 0,\n",
      "  \"items\": []\n",
      "}\n"
     ]
    }
   ],
   "execution_count": 22
  },
  {
   "metadata": {},
   "cell_type": "code",
   "outputs": [],
   "execution_count": null,
   "source": [
    "# Upload a dataset\n",
    "\n"
   ],
   "id": "3ae6c586dd92a498"
  },
  {
   "metadata": {},
   "cell_type": "code",
   "outputs": [],
   "execution_count": null,
   "source": "# Get information about a dataset",
   "id": "ef2d98ed9dea9f88"
  },
  {
   "metadata": {},
   "cell_type": "markdown",
   "source": "## Working with Experiments",
   "id": "71cc044acbddc240"
  },
  {
   "metadata": {},
   "cell_type": "markdown",
   "source": "## Creating a Ground Truth Run",
   "id": "617a1cea92b8124e"
  },
  {
   "metadata": {},
   "cell_type": "code",
   "outputs": [],
   "execution_count": null,
   "source": "",
   "id": "7d5829645016b611"
  },
  {
   "metadata": {
    "ExecuteTime": {
     "end_time": "2024-07-15T17:54:09.807930Z",
     "start_time": "2024-07-15T17:54:09.756299Z"
    }
   },
   "cell_type": "code",
   "source": [
    "# Show deployments\n",
    "\n",
    "make_request(f\"{API_URL}/ground-truth/deployments/\")"
   ],
   "id": "e84089f1b077a046",
   "outputs": [
    {
     "name": "stdout",
     "output_type": "stream",
     "text": [
      "{\n",
      "  \"total\": 4,\n",
      "  \"items\": [\n",
      "    {\n",
      "      \"id\": \"83dde201-1a5e-41c4-bc3d-71ab48ccda36\",\n",
      "      \"name\": \"summarizer\",\n",
      "      \"description\": \"Text summarization model\",\n",
      "      \"status\": \"created\",\n",
      "      \"created_at\": \"2024-07-11T15:45:56.098211Z\",\n",
      "      \"updated_at\": null\n",
      "    },\n",
      "    {\n",
      "      \"id\": \"cbb63174-b5f0-46f6-9ec1-aa7578ecf544\",\n",
      "      \"name\": \"summarizer\",\n",
      "      \"description\": \"Text summarization model\",\n",
      "      \"status\": \"created\",\n",
      "      \"created_at\": \"2024-07-12T14:17:57.325988Z\",\n",
      "      \"updated_at\": null\n",
      "    },\n",
      "    {\n",
      "      \"id\": \"6955c1d4-2819-4178-8da8-821650f9f27e\",\n",
      "      \"name\": \"summarizer\",\n",
      "      \"description\": \"Text summarization model\",\n",
      "      \"status\": \"created\",\n",
      "      \"created_at\": \"2024-07-12T14:18:50.715925Z\",\n",
      "      \"updated_at\": null\n",
      "    },\n",
      "    {\n",
      "      \"id\": \"19030812-2b05-4c39-a861-8d9e04aa0d47\",\n",
      "      \"name\": \"summarizer\",\n",
      "      \"description\": \"Text summarization model\",\n",
      "      \"status\": \"created\",\n",
      "      \"created_at\": \"2024-07-12T15:02:07.229302Z\",\n",
      "      \"updated_at\": null\n",
      "    }\n",
      "  ]\n",
      "}\n"
     ]
    }
   ],
   "execution_count": 24
  },
  {
   "metadata": {},
   "cell_type": "code",
   "outputs": [],
   "execution_count": null,
   "source": "## A way to see all options on the platform ",
   "id": "c32e29f0fedf7e0d"
  },
  {
   "metadata": {
    "ExecuteTime": {
     "end_time": "2024-07-12T17:46:10.947687Z",
     "start_time": "2024-07-12T17:46:10.944298Z"
    }
   },
   "cell_type": "code",
   "source": [
    "payload =  \"\"\"I recently added a beta release, version 7.0b1, of my extension, Clippings for Thunderbird, and selected the option to self-host it so that I can make it available to testers separately while regular users continue to see version 6.3.5, the current release version. However, the beta release is now incorrectly appearing in the Add-ons for Thunderbird public listing. URL to ATN listing: https://addons.thunderbird.net/en-US/thunderbird/addon/clippings-tb/. Thanks for the report, it is best to file an issue with the addons-server: https://github.com/thunderbird/addons-server I have not looked at it in detail, but self-hosted add-ons need an update_url entry in their manifest and that should prevent it from being accepted on ATN. Since we do not sign add-ons, self-hosted add-ons do not need to be submitted to ATN at all.My best-practice advice is:\n",
    "- remove the beta version from ATN,\n",
    "- create a dedicated branch/repo which holds the update information (either a branch in each add-on repo you want to self-host, or a single update-repo with the information for all your add-ons)\n",
    "- host the XPI files either as an \"beta\" asset in a \"github release\", or directly as a file in the repo (I think the asset is the better choice),\n",
    "- make sure that the manifest of your self-hosted XPI points to the correct update.json. John I've removed the beta version of my extension from ATN, and the listing for my extension now shows the current stable release. Thanks for your help!\"\"\""
   ],
   "id": "b05a4b4a54882b12",
   "outputs": [],
   "execution_count": 9
  },
  {
   "metadata": {
    "ExecuteTime": {
     "end_time": "2024-07-12T17:49:48.725510Z",
     "start_time": "2024-07-12T17:49:17.713888Z"
    }
   },
   "cell_type": "code",
   "source": "requests.post(f\"{API_URL}/ground-truth/deployments/19030812-2b05-4c39-a861-8d9e04aa0d47\", json={\"text\": payload}).json()",
   "id": "f68973b203703b86",
   "outputs": [
    {
     "data": {
      "text/plain": [
       "{'text': {'result': 'Clippings for Thunderbird self-hosts a beta release of version 7.0b1. The beta release is now incorrectly appearing in the Add-ons for Thunderbirds public listing. John has removed the beta version from ATN, and the listing for my extension now shows the current stable release.'}}"
      ]
     },
     "execution_count": 14,
     "metadata": {},
     "output_type": "execute_result"
    }
   ],
   "execution_count": 14
  },
  {
   "metadata": {},
   "cell_type": "code",
   "outputs": [],
   "execution_count": null,
   "source": "",
   "id": "90c3f007817df53e"
  }
 ],
 "metadata": {
  "kernelspec": {
   "display_name": "Python 3",
   "language": "python",
   "name": "python3"
  },
  "language_info": {
   "codemirror_mode": {
    "name": "ipython",
    "version": 2
   },
   "file_extension": ".py",
   "mimetype": "text/x-python",
   "name": "python",
   "nbconvert_exporter": "python",
   "pygments_lexer": "ipython2",
   "version": "2.7.6"
  }
 },
 "nbformat": 4,
 "nbformat_minor": 5
}
