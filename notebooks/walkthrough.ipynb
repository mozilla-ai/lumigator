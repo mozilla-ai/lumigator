{
 "cells": [
  {
   "cell_type": "code",
   "id": "initial_id",
   "metadata": {
    "collapsed": true,
    "ExecuteTime": {
     "end_time": "2024-07-12T17:39:14.114439Z",
     "start_time": "2024-07-12T17:39:14.070433Z"
    }
   },
   "source": [
    "import requests\n",
    "import json\n"
   ],
   "outputs": [],
   "execution_count": 1
  },
  {
   "metadata": {
    "ExecuteTime": {
     "end_time": "2024-07-12T17:39:14.117057Z",
     "start_time": "2024-07-12T17:39:14.115456Z"
    }
   },
   "cell_type": "code",
   "source": "API_URL = \"http://127.0.0.1/api/v1\"",
   "id": "32a4f8c18d7ea625",
   "outputs": [],
   "execution_count": 2
  },
  {
   "metadata": {
    "ExecuteTime": {
     "end_time": "2024-07-12T17:39:22.091992Z",
     "start_time": "2024-07-12T17:39:22.088058Z"
    }
   },
   "cell_type": "code",
   "source": [
    "def get_and_show(url):\n",
    "    \n",
    "    r = requests.get(url)\n",
    "    if r.status_code == requests.codes.ok:\n",
    "        print(json.dumps(r.json(), indent = 2))\n",
    "    else:\n",
    "        print(f\"{r.status_code}\\n{json.dumps(r.json(), indent = 2)}\")"
   ],
   "id": "f1d68e6d0606078f",
   "outputs": [],
   "execution_count": 3
  },
  {
   "metadata": {
    "ExecuteTime": {
     "end_time": "2024-07-12T17:39:32.947003Z",
     "start_time": "2024-07-12T17:39:32.902566Z"
    }
   },
   "cell_type": "code",
   "source": "get_and_show(f\"{API_URL}/health\")\n",
   "id": "80d2d3047ce1c051",
   "outputs": [
    {
     "name": "stdout",
     "output_type": "stream",
     "text": [
      "{\n",
      "  \"status\": \"OK\",\n",
      "  \"deployment_type\": \"local\"\n",
      "}\n"
     ]
    }
   ],
   "execution_count": 4
  },
  {
   "metadata": {
    "ExecuteTime": {
     "end_time": "2024-07-12T17:42:23.098194Z",
     "start_time": "2024-07-12T17:42:22.988335Z"
    }
   },
   "cell_type": "code",
   "source": [
    "# Show deployments\n",
    "\n",
    "get_and_show(f\"{API_URL}/ground-truth/deployments/\")"
   ],
   "id": "e84089f1b077a046",
   "outputs": [
    {
     "name": "stdout",
     "output_type": "stream",
     "text": [
      "{\n",
      "  \"total\": 5,\n",
      "  \"items\": [\n",
      "    {\n",
      "      \"id\": \"da6e1977-5081-4d67-ade6-69713a2c4bc8\",\n",
      "      \"name\": \"summarizer\",\n",
      "      \"description\": \"Text summarization model\",\n",
      "      \"status\": \"created\",\n",
      "      \"created_at\": \"2024-07-11T15:45:50.641708Z\",\n",
      "      \"updated_at\": null\n",
      "    },\n",
      "    {\n",
      "      \"id\": \"83dde201-1a5e-41c4-bc3d-71ab48ccda36\",\n",
      "      \"name\": \"summarizer\",\n",
      "      \"description\": \"Text summarization model\",\n",
      "      \"status\": \"created\",\n",
      "      \"created_at\": \"2024-07-11T15:45:56.098211Z\",\n",
      "      \"updated_at\": null\n",
      "    },\n",
      "    {\n",
      "      \"id\": \"cbb63174-b5f0-46f6-9ec1-aa7578ecf544\",\n",
      "      \"name\": \"summarizer\",\n",
      "      \"description\": \"Text summarization model\",\n",
      "      \"status\": \"created\",\n",
      "      \"created_at\": \"2024-07-12T14:17:57.325988Z\",\n",
      "      \"updated_at\": null\n",
      "    },\n",
      "    {\n",
      "      \"id\": \"6955c1d4-2819-4178-8da8-821650f9f27e\",\n",
      "      \"name\": \"summarizer\",\n",
      "      \"description\": \"Text summarization model\",\n",
      "      \"status\": \"created\",\n",
      "      \"created_at\": \"2024-07-12T14:18:50.715925Z\",\n",
      "      \"updated_at\": null\n",
      "    },\n",
      "    {\n",
      "      \"id\": \"19030812-2b05-4c39-a861-8d9e04aa0d47\",\n",
      "      \"name\": \"summarizer\",\n",
      "      \"description\": \"Text summarization model\",\n",
      "      \"status\": \"created\",\n",
      "      \"created_at\": \"2024-07-12T15:02:07.229302Z\",\n",
      "      \"updated_at\": null\n",
      "    }\n",
      "  ]\n",
      "}\n"
     ]
    }
   ],
   "execution_count": 5
  },
  {
   "metadata": {
    "ExecuteTime": {
     "end_time": "2024-07-12T17:46:10.947687Z",
     "start_time": "2024-07-12T17:46:10.944298Z"
    }
   },
   "cell_type": "code",
   "source": [
    "payload =  \"\"\"I recently added a beta release, version 7.0b1, of my extension, Clippings for Thunderbird, and selected the option to self-host it so that I can make it available to testers separately while regular users continue to see version 6.3.5, the current release version. However, the beta release is now incorrectly appearing in the Add-ons for Thunderbird public listing. URL to ATN listing: https://addons.thunderbird.net/en-US/thunderbird/addon/clippings-tb/. Thanks for the report, it is best to file an issue with the addons-server: https://github.com/thunderbird/addons-server I have not looked at it in detail, but self-hosted add-ons need an update_url entry in their manifest and that should prevent it from being accepted on ATN. Since we do not sign add-ons, self-hosted add-ons do not need to be submitted to ATN at all.My best-practice advice is:\n",
    "- remove the beta version from ATN,\n",
    "- create a dedicated branch/repo which holds the update information (either a branch in each add-on repo you want to self-host, or a single update-repo with the information for all your add-ons)\n",
    "- host the XPI files either as an \"beta\" asset in a \"github release\", or directly as a file in the repo (I think the asset is the better choice),\n",
    "- make sure that the manifest of your self-hosted XPI points to the correct update.json. John I've removed the beta version of my extension from ATN, and the listing for my extension now shows the current stable release. Thanks for your help!\"\"\""
   ],
   "id": "b05a4b4a54882b12",
   "outputs": [],
   "execution_count": 9
  },
  {
   "metadata": {
    "ExecuteTime": {
     "end_time": "2024-07-12T17:49:48.725510Z",
     "start_time": "2024-07-12T17:49:17.713888Z"
    }
   },
   "cell_type": "code",
   "source": "requests.post(f\"{API_URL}/ground-truth/deployments/19030812-2b05-4c39-a861-8d9e04aa0d47\", json={\"text\": payload}).json()",
   "id": "f68973b203703b86",
   "outputs": [
    {
     "data": {
      "text/plain": [
       "{'text': {'result': 'Clippings for Thunderbird self-hosts a beta release of version 7.0b1. The beta release is now incorrectly appearing in the Add-ons for Thunderbirds public listing. John has removed the beta version from ATN, and the listing for my extension now shows the current stable release.'}}"
      ]
     },
     "execution_count": 14,
     "metadata": {},
     "output_type": "execute_result"
    }
   ],
   "execution_count": 14
  },
  {
   "metadata": {},
   "cell_type": "code",
   "outputs": [],
   "execution_count": null,
   "source": "",
   "id": "90c3f007817df53e"
  }
 ],
 "metadata": {
  "kernelspec": {
   "display_name": "Python 3",
   "language": "python",
   "name": "python3"
  },
  "language_info": {
   "codemirror_mode": {
    "name": "ipython",
    "version": 2
   },
   "file_extension": ".py",
   "mimetype": "text/x-python",
   "name": "python",
   "nbconvert_exporter": "python",
   "pygments_lexer": "ipython2",
   "version": "2.7.6"
  }
 },
 "nbformat": 4,
 "nbformat_minor": 5
}
