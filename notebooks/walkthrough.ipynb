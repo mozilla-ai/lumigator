{
 "cells": [
  {
   "cell_type": "markdown",
   "id": "7b9f41f6d3dd7c06",
   "metadata": {},
   "source": [
    "## Agenda\n",
    "\n",
    "+ Introduction and setup environment (credentials)\n",
    "+ Platform Setup and Walkthrough\n",
    "+ Explanation of and Examination of Thunderbird Ground Truth\n",
    "+ Model Selection ( 1 encoder/decoder), (2 decoder), eval against GPT4\n",
    "+ Run experiment and show results\n",
    "+ Evaluate results and discuss"
   ]
  },
  {
   "cell_type": "markdown",
   "id": "7aec988928b46a66",
   "metadata": {},
   "source": []
  },
  {
   "cell_type": "markdown",
   "id": "67f7db1f11253edc",
   "metadata": {},
   "source": [
    "## Foxfooding Introduction and Setup Environment"
   ]
  },
  {
   "cell_type": "markdown",
   "id": "34a1155b91159d41",
   "metadata": {},
   "source": [
    "## Who we are, what we do, about the platform, etc. \n"
   ]
  },
  {
   "cell_type": "markdown",
   "id": "2bb4acfee4aa9bc3",
   "metadata": {},
   "source": [
    "## Platform Setup and Walkthrough"
   ]
  },
  {
   "cell_type": "code",
   "execution_count": 1,
   "id": "32a4f8c18d7ea625",
   "metadata": {},
   "outputs": [],
   "source": [
    "# TODO Replace with ELB URL \n",
    "API_URL = \"http://127.0.0.1/api/v1\""
   ]
  },
  {
   "cell_type": "code",
   "execution_count": 36,
   "id": "a7c44e325af2948c",
   "metadata": {
    "ExecuteTime": {
     "end_time": "2024-07-15T17:40:46.180270Z",
     "start_time": "2024-07-15T17:40:46.175012Z"
    }
   },
   "outputs": [],
   "source": [
    "import requests\n",
    "from typing import Dict, Any\n",
    "import json\n",
    "\n",
    "def make_request(\n",
    "    url: str,\n",
    "    method: str = \"GET\",\n",
    "    params: Dict[str, Any] = None,\n",
    "    data: Dict[str, Any] = None,\n",
    "    headers: Dict[str, str] = None,\n",
    "    json_: Dict[str, str] = None,\n",
    "    timeout: int = 10,\n",
    "    *args, **kwargs\n",
    "\n",
    ") -> requests.Response:\n",
    "    \"\"\"\n",
    "    Make an HTTP request using the requests library.\n",
    "\n",
    "    Args:\n",
    "        url (str)\n",
    "        method (str, optional): The HTTP method to use. Defaults to \"GET\".\n",
    "        params (Dict[str, Any], optional): URL parameters to include in the request.\n",
    "        data (Dict[str, Any], optional): Data to send in the request body.\n",
    "        headers (Dict[str, str], optional): Headers to include in the request.\n",
    "        timeout (int, optional): Timeout for the request in seconds. Defaults to 10.\n",
    "\n",
    "    Returns:\n",
    "        requests.Response: The response object from the request.\n",
    "\n",
    "    Raises:\n",
    "        requests.RequestException\n",
    "    \"\"\"\n",
    "    try:\n",
    "        response = requests.request(\n",
    "            method=method.upper(),\n",
    "            url=url,\n",
    "            params=params,\n",
    "            data=data,\n",
    "            headers=headers,\n",
    "            timeout=timeout,\n",
    "            json=json_,\n",
    "            *args, **kwargs\n",
    "            \n",
    "        )\n",
    "        response.raise_for_status()\n",
    "        print(f\"{json.dumps(response.json(), indent = 2)}\")\n",
    "    except requests.RequestException as e:\n",
    "        print(f\"Request failed: {e}\")\n",
    "        raise\n",
    "    return response"
   ]
  },
  {
   "cell_type": "code",
   "execution_count": 33,
   "id": "1c32609f-ebb6-4a0c-b30b-2a6a2e242d63",
   "metadata": {},
   "outputs": [
    {
     "name": "stdout",
     "output_type": "stream",
     "text": [
      "Help on function request in module requests.api:\n",
      "\n",
      "request(method, url, **kwargs)\n",
      "    Constructs and sends a :class:`Request <Request>`.\n",
      "    \n",
      "    :param method: method for the new :class:`Request` object: ``GET``, ``OPTIONS``, ``HEAD``, ``POST``, ``PUT``, ``PATCH``, or ``DELETE``.\n",
      "    :param url: URL for the new :class:`Request` object.\n",
      "    :param params: (optional) Dictionary, list of tuples or bytes to send\n",
      "        in the query string for the :class:`Request`.\n",
      "    :param data: (optional) Dictionary, list of tuples, bytes, or file-like\n",
      "        object to send in the body of the :class:`Request`.\n",
      "    :param json: (optional) A JSON serializable Python object to send in the body of the :class:`Request`.\n",
      "    :param headers: (optional) Dictionary of HTTP Headers to send with the :class:`Request`.\n",
      "    :param cookies: (optional) Dict or CookieJar object to send with the :class:`Request`.\n",
      "    :param files: (optional) Dictionary of ``'name': file-like-objects`` (or ``{'name': file-tuple}``) for multipart encoding upload.\n",
      "        ``file-tuple`` can be a 2-tuple ``('filename', fileobj)``, 3-tuple ``('filename', fileobj, 'content_type')``\n",
      "        or a 4-tuple ``('filename', fileobj, 'content_type', custom_headers)``, where ``'content_type'`` is a string\n",
      "        defining the content type of the given file and ``custom_headers`` a dict-like object containing additional headers\n",
      "        to add for the file.\n",
      "    :param auth: (optional) Auth tuple to enable Basic/Digest/Custom HTTP Auth.\n",
      "    :param timeout: (optional) How many seconds to wait for the server to send data\n",
      "        before giving up, as a float, or a :ref:`(connect timeout, read\n",
      "        timeout) <timeouts>` tuple.\n",
      "    :type timeout: float or tuple\n",
      "    :param allow_redirects: (optional) Boolean. Enable/disable GET/OPTIONS/POST/PUT/PATCH/DELETE/HEAD redirection. Defaults to ``True``.\n",
      "    :type allow_redirects: bool\n",
      "    :param proxies: (optional) Dictionary mapping protocol to the URL of the proxy.\n",
      "    :param verify: (optional) Either a boolean, in which case it controls whether we verify\n",
      "            the server's TLS certificate, or a string, in which case it must be a path\n",
      "            to a CA bundle to use. Defaults to ``True``.\n",
      "    :param stream: (optional) if ``False``, the response content will be immediately downloaded.\n",
      "    :param cert: (optional) if String, path to ssl client cert file (.pem). If Tuple, ('cert', 'key') pair.\n",
      "    :return: :class:`Response <Response>` object\n",
      "    :rtype: requests.Response\n",
      "    \n",
      "    Usage::\n",
      "    \n",
      "      >>> import requests\n",
      "      >>> req = requests.request('GET', 'https://httpbin.org/get')\n",
      "      >>> req\n",
      "      <Response [200]>\n",
      "\n"
     ]
    }
   ],
   "source": [
    "\n",
    "d"
   ]
  },
  {
   "cell_type": "code",
   "execution_count": null,
   "id": "be9495e9-4e8d-402a-9d7f-fe5a7ef2b2f5",
   "metadata": {},
   "outputs": [],
   "source": []
  },
  {
   "cell_type": "code",
   "execution_count": 3,
   "id": "f723ea2555f09c5e",
   "metadata": {},
   "outputs": [
    {
     "name": "stdout",
     "output_type": "stream",
     "text": [
      "{\n",
      "  \"status\": \"OK\",\n",
      "  \"deployment_type\": \"local\"\n",
      "}\n"
     ]
    }
   ],
   "source": [
    "# Check a sample URL response\n",
    "make_request(f\"{API_URL}/health\")"
   ]
  },
  {
   "cell_type": "markdown",
   "id": "ae4288d559813138",
   "metadata": {},
   "source": [
    "## Working with Datasets"
   ]
  },
  {
   "cell_type": "code",
   "execution_count": 4,
   "id": "b33d0bbb40bf66ac",
   "metadata": {
    "ExecuteTime": {
     "end_time": "2024-07-15T17:51:53.666600Z",
     "start_time": "2024-07-15T17:51:53.471911Z"
    }
   },
   "outputs": [
    {
     "name": "stdout",
     "output_type": "stream",
     "text": [
      "{\n",
      "  \"total\": 0,\n",
      "  \"items\": []\n",
      "}\n"
     ]
    }
   ],
   "source": [
    "# Show datasets to evaluate\n",
    "make_request(f\"{API_URL}/datasets\")"
   ]
  },
  {
   "cell_type": "code",
   "execution_count": 5,
   "id": "3ae6c586dd92a498",
   "metadata": {},
   "outputs": [],
   "source": [
    "# Upload a dataset\n",
    "\n"
   ]
  },
  {
   "cell_type": "code",
   "execution_count": 6,
   "id": "ef2d98ed9dea9f88",
   "metadata": {},
   "outputs": [],
   "source": [
    "# Get information about a dataset"
   ]
  },
  {
   "cell_type": "markdown",
   "id": "71cc044acbddc240",
   "metadata": {},
   "source": [
    "## Working with Experiments"
   ]
  },
  {
   "cell_type": "markdown",
   "id": "617a1cea92b8124e",
   "metadata": {},
   "source": [
    "## Creating a Ground Truth Run\n"
   ]
  },
  {
   "cell_type": "code",
   "execution_count": 24,
   "id": "7d5829645016b611",
   "metadata": {},
   "outputs": [
    {
     "name": "stdout",
     "output_type": "stream",
     "text": [
      "{\n",
      "  \"id\": \"24d44f4f-3844-4658-99ad-dccdd6ab619e\",\n",
      "  \"name\": \"summarizer\",\n",
      "  \"description\": \"Text summarization model\",\n",
      "  \"status\": \"created\",\n",
      "  \"created_at\": \"2024-07-15T20:26:44.440081Z\",\n",
      "  \"updated_at\": null\n",
      "}\n"
     ]
    }
   ],
   "source": [
    "my_deployment = make_request(f\"{API_URL}/ground-truth/deployments\", method=\"post\").json().get(\"id\")\n"
   ]
  },
  {
   "cell_type": "code",
   "execution_count": null,
   "id": "56ed520a-e32e-414d-8fa6-683259fa22e9",
   "metadata": {},
   "outputs": [],
   "source": []
  },
  {
   "cell_type": "code",
   "execution_count": 13,
   "id": "e84089f1b077a046",
   "metadata": {
    "ExecuteTime": {
     "end_time": "2024-07-15T17:54:09.807930Z",
     "start_time": "2024-07-15T17:54:09.756299Z"
    }
   },
   "outputs": [
    {
     "name": "stdout",
     "output_type": "stream",
     "text": [
      "{\n",
      "  \"total\": 8,\n",
      "  \"items\": [\n",
      "    {\n",
      "      \"id\": \"2be368ad-eb6a-4780-bb7f-b4f19c3c6ca1\",\n",
      "      \"name\": \"summarizer\",\n",
      "      \"description\": \"Text summarization model\",\n",
      "      \"status\": \"created\",\n",
      "      \"created_at\": \"2024-07-15T17:45:49.056926Z\",\n",
      "      \"updated_at\": null\n",
      "    },\n",
      "    {\n",
      "      \"id\": \"524507f9-8e34-4a53-8249-bc17573608b2\",\n",
      "      \"name\": \"summarizer\",\n",
      "      \"description\": \"Text summarization model\",\n",
      "      \"status\": \"created\",\n",
      "      \"created_at\": \"2024-07-15T17:54:24.963071Z\",\n",
      "      \"updated_at\": null\n",
      "    },\n",
      "    {\n",
      "      \"id\": \"567459ba-96ce-4ea9-bd0d-1738470776cb\",\n",
      "      \"name\": \"summarizer\",\n",
      "      \"description\": \"Text summarization model\",\n",
      "      \"status\": \"created\",\n",
      "      \"created_at\": \"2024-07-15T17:55:42.666413Z\",\n",
      "      \"updated_at\": null\n",
      "    },\n",
      "    {\n",
      "      \"id\": \"33e90697-7449-416d-a458-22a0f6186d73\",\n",
      "      \"name\": \"summarizer\",\n",
      "      \"description\": \"Text summarization model\",\n",
      "      \"status\": \"created\",\n",
      "      \"created_at\": \"2024-07-15T17:56:09.893899Z\",\n",
      "      \"updated_at\": null\n",
      "    },\n",
      "    {\n",
      "      \"id\": \"51c0cd33-9e93-420f-b9d3-d681d488158c\",\n",
      "      \"name\": \"summarizer\",\n",
      "      \"description\": \"Text summarization model\",\n",
      "      \"status\": \"created\",\n",
      "      \"created_at\": \"2024-07-15T17:58:42.224332Z\",\n",
      "      \"updated_at\": null\n",
      "    },\n",
      "    {\n",
      "      \"id\": \"8437bca9-1f3c-4699-a3f8-311688313fdc\",\n",
      "      \"name\": \"summarizer\",\n",
      "      \"description\": \"Text summarization model\",\n",
      "      \"status\": \"created\",\n",
      "      \"created_at\": \"2024-07-15T18:18:38.835745Z\",\n",
      "      \"updated_at\": null\n",
      "    },\n",
      "    {\n",
      "      \"id\": \"7e55f4a0-8615-4a3f-88d8-f1195fc6b308\",\n",
      "      \"name\": \"summarizer\",\n",
      "      \"description\": \"Text summarization model\",\n",
      "      \"status\": \"created\",\n",
      "      \"created_at\": \"2024-07-15T18:21:31.001675Z\",\n",
      "      \"updated_at\": null\n",
      "    },\n",
      "    {\n",
      "      \"id\": \"9f5846c4-19e2-4b1f-b8c4-2ffb71a144b2\",\n",
      "      \"name\": \"summarizer\",\n",
      "      \"description\": \"Text summarization model\",\n",
      "      \"status\": \"created\",\n",
      "      \"created_at\": \"2024-07-15T18:21:56.276000Z\",\n",
      "      \"updated_at\": null\n",
      "    }\n",
      "  ]\n",
      "}\n"
     ]
    }
   ],
   "source": [
    "# Show deployments\n",
    "\n",
    "deployments = make_request(f\"{API_URL}/ground-truth/deployments/\")\n",
    "deployments"
   ]
  },
  {
   "cell_type": "code",
   "execution_count": null,
   "id": "25492d74-1454-48b8-b6fc-cf77cef95708",
   "metadata": {},
   "outputs": [],
   "source": [
    "my_deployment = deployments"
   ]
  },
  {
   "cell_type": "code",
   "execution_count": 8,
   "id": "c32e29f0fedf7e0d",
   "metadata": {},
   "outputs": [],
   "source": [
    "## A way to see all options on the platform "
   ]
  },
  {
   "cell_type": "code",
   "execution_count": 9,
   "id": "b05a4b4a54882b12",
   "metadata": {
    "ExecuteTime": {
     "end_time": "2024-07-12T17:46:10.947687Z",
     "start_time": "2024-07-12T17:46:10.944298Z"
    }
   },
   "outputs": [],
   "source": [
    "payload =  \"\"\"I recently added a beta release, version 7.0b1, of my extension, Clippings for Thunderbird, and selected the option to self-host it so that I can make it available to testers separately while regular users continue to see version 6.3.5, the current release version. However, the beta release is now incorrectly appearing in the Add-ons for Thunderbird public listing. URL to ATN listing: https://addons.thunderbird.net/en-US/thunderbird/addon/clippings-tb/. Thanks for the report, it is best to file an issue with the addons-server: https://github.com/thunderbird/addons-server I have not looked at it in detail, but self-hosted add-ons need an update_url entry in their manifest and that should prevent it from being accepted on ATN. Since we do not sign add-ons, self-hosted add-ons do not need to be submitted to ATN at all.My best-practice advice is:\n",
    "- remove the beta version from ATN,\n",
    "- create a dedicated branch/repo which holds the update information (either a branch in each add-on repo you want to self-host, or a single update-repo with the information for all your add-ons)\n",
    "- host the XPI files either as an \"beta\" asset in a \"github release\", or directly as a file in the repo (I think the asset is the better choice),\n",
    "- make sure that the manifest of your self-hosted XPI points to the correct update.json. John I've removed the beta version of my extension from ATN, and the listing for my extension now shows the current stable release. Thanks for your help!\"\"\""
   ]
  },
  {
   "cell_type": "code",
   "execution_count": 42,
   "id": "f68973b203703b86",
   "metadata": {
    "ExecuteTime": {
     "end_time": "2024-07-12T17:49:48.725510Z",
     "start_time": "2024-07-12T17:49:17.713888Z"
    }
   },
   "outputs": [
    {
     "name": "stdout",
     "output_type": "stream",
     "text": [
      "{\n",
      "  \"deployment_response\": {\n",
      "    \"result\": \"Clippings for Thunderbird self-hosts a beta release of version 7.0b1. The beta release is now incorrectly appearing in the Add-ons for Thunderbirds public listing. John has removed the beta version from ATN, and the listing for my extension now shows the current stable release.\"\n",
      "  }\n",
      "}\n"
     ]
    }
   ],
   "source": [
    "summary = make_request(f\"{API_URL}/ground-truth/deployments/{my_deployment}\", method=\"POST\", json_={\"text\": payload}, timeout=30)"
   ]
  },
  {
   "cell_type": "code",
   "execution_count": null,
   "id": "f626f967-7ef1-4d60-b9b6-5fa99de44ff6",
   "metadata": {},
   "outputs": [],
   "source": []
  },
  {
   "cell_type": "code",
   "execution_count": null,
   "id": "4e5ba21c-b7ba-4577-b553-8ace40368703",
   "metadata": {},
   "outputs": [],
   "source": []
  },
  {
   "cell_type": "code",
   "execution_count": null,
   "id": "aca243b7-ea93-474b-8e9e-d2ced349d5a2",
   "metadata": {},
   "outputs": [],
   "source": []
  },
  {
   "cell_type": "code",
   "execution_count": null,
   "id": "0b1aaf59-bff3-4ab2-b68b-e49b5b8c9939",
   "metadata": {},
   "outputs": [],
   "source": []
  },
  {
   "cell_type": "code",
   "execution_count": null,
   "id": "9e086b00-1272-4e93-8d4a-1f60df4bffe0",
   "metadata": {},
   "outputs": [],
   "source": []
  },
  {
   "cell_type": "markdown",
   "id": "5330cf41a8080a7b",
   "metadata": {},
   "source": [
    "## Model Selection"
   ]
  },
  {
   "cell_type": "markdown",
   "id": "24db01c1511b47b8",
   "metadata": {},
   "source": [
    "## Run Experiment"
   ]
  },
  {
   "cell_type": "markdown",
   "id": "8f2211bacd85c93a",
   "metadata": {},
   "source": [
    "## Show evaluation results"
   ]
  },
  {
   "cell_type": "code",
   "execution_count": null,
   "id": "68226c324821b18d",
   "metadata": {},
   "outputs": [],
   "source": []
  }
 ],
 "metadata": {
  "kernelspec": {
   "display_name": "Python 3 (ipykernel)",
   "language": "python",
   "name": "python3"
  },
  "language_info": {
   "codemirror_mode": {
    "name": "ipython",
    "version": 3
   },
   "file_extension": ".py",
   "mimetype": "text/x-python",
   "name": "python",
   "nbconvert_exporter": "python",
   "pygments_lexer": "ipython3",
   "version": "3.11.9"
  }
 },
 "nbformat": 4,
 "nbformat_minor": 5
}
