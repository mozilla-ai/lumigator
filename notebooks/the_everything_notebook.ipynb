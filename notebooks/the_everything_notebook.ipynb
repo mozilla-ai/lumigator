{
 "cells": [
  {
   "cell_type": "code",
   "execution_count": null,
   "id": "eb4d510e-6ce7-4015-834c-27d9438a4c8a",
   "metadata": {},
   "outputs": [],
   "source": [
    "%pip install s3fs==2024.5.0 datasets==2.20.0"
   ]
  },
  {
   "cell_type": "code",
   "execution_count": 1,
   "id": "9a1db599-16a1-44e4-b5e7-f15d10b66126",
   "metadata": {},
   "outputs": [],
   "source": [
    "%load_ext autoreload\n",
    "%autoreload 2"
   ]
  },
  {
   "cell_type": "code",
   "execution_count": 2,
   "id": "64951027-1be6-43cd-832b-4c4df80953e4",
   "metadata": {},
   "outputs": [],
   "source": [
    "import lumigator_demo as ld\n",
    "from datasets import load_dataset, load_from_disk\n",
    "from IPython.display import clear_output\n",
    "import time"
   ]
  },
  {
   "cell_type": "code",
   "execution_count": 3,
   "id": "bb43dec0-d0da-48f6-b5d2-167fc01f62e5",
   "metadata": {},
   "outputs": [],
   "source": [
    "# allow groups to provide a team name so we can track their jobs more easily\n",
    "team_name = \"testing_lumigator\""
   ]
  },
  {
   "cell_type": "markdown",
   "id": "8880cb2d-fb4a-44bc-bc26-c8bb4ae27a2e",
   "metadata": {},
   "source": [
    "# Running the Experiment"
   ]
  },
  {
   "cell_type": "markdown",
   "id": "55466ecc-9741-426e-a532-401fb5cfa915",
   "metadata": {},
   "source": [
    "## Dataset Preprocessing"
   ]
  },
  {
   "cell_type": "markdown",
   "id": "2412e109-4d49-4857-8828-b5d7e24efc06",
   "metadata": {},
   "source": [
    "### Loading data\n",
    "The following dataset is already in the format that we need as input: \n",
    "- one field called `examples` containing the text to summarize\n",
    "- one field called `ground_truth` containing the summaries to the models' outputs against\n",
    "\n",
    "Despite being a CSV file, we still specify `split=\"train\"` as this is the default split name for non-split datasets.\n",
    "\n",
    "Note that you can load many different types of file formats in a similar way (see https://huggingface.co/docs/datasets/loading#local-and-remote-files)"
   ]
  },
  {
   "cell_type": "code",
   "execution_count": 72,
   "id": "7263de8c-115a-4775-860c-13adbfb06eea",
   "metadata": {},
   "outputs": [
    {
     "data": {
      "text/html": [
       "<div>\n",
       "<style scoped>\n",
       "    .dataframe tbody tr th:only-of-type {\n",
       "        vertical-align: middle;\n",
       "    }\n",
       "\n",
       "    .dataframe tbody tr th {\n",
       "        vertical-align: top;\n",
       "    }\n",
       "\n",
       "    .dataframe thead th {\n",
       "        text-align: right;\n",
       "    }\n",
       "</style>\n",
       "<table border=\"1\" class=\"dataframe\">\n",
       "  <thead>\n",
       "    <tr style=\"text-align: right;\">\n",
       "      <th></th>\n",
       "      <th>examples</th>\n",
       "      <th>ground_truth</th>\n",
       "    </tr>\n",
       "  </thead>\n",
       "  <tbody>\n",
       "    <tr>\n",
       "      <th>0</th>\n",
       "      <td>#Person1#: Hello, how are you doing today?\\n#P...</td>\n",
       "      <td>#Person2# has trouble breathing. The doctor as...</td>\n",
       "    </tr>\n",
       "    <tr>\n",
       "      <th>1</th>\n",
       "      <td>#Person1#: Hey Jimmy. Let's go workout later t...</td>\n",
       "      <td>#Person1# invites Jimmy to go workout and pers...</td>\n",
       "    </tr>\n",
       "    <tr>\n",
       "      <th>2</th>\n",
       "      <td>#Person1#: I need to stop eating such unhealth...</td>\n",
       "      <td>#Person1# plans to stop eating unhealthy foods...</td>\n",
       "    </tr>\n",
       "    <tr>\n",
       "      <th>3</th>\n",
       "      <td>#Person1#: Do you believe in UFOs?\\n#Person2#:...</td>\n",
       "      <td>#Person2# believes in UFOs and can see them in...</td>\n",
       "    </tr>\n",
       "    <tr>\n",
       "      <th>4</th>\n",
       "      <td>#Person1#: Did you go to school today?\\n#Perso...</td>\n",
       "      <td>#Person1# didn't go to school today. #Person2#...</td>\n",
       "    </tr>\n",
       "    <tr>\n",
       "      <th>...</th>\n",
       "      <td>...</td>\n",
       "      <td>...</td>\n",
       "    </tr>\n",
       "    <tr>\n",
       "      <th>495</th>\n",
       "      <td>#Person1#: Now that it's the new year, I've de...</td>\n",
       "      <td>#Person1# decides to stop smoking and come out...</td>\n",
       "    </tr>\n",
       "    <tr>\n",
       "      <th>496</th>\n",
       "      <td>#Person1#: You married Joe, didn't you? \\n#Per...</td>\n",
       "      <td>#Person1# thought #Person2# married Joe. #Pers...</td>\n",
       "    </tr>\n",
       "    <tr>\n",
       "      <th>497</th>\n",
       "      <td>#Person1#: How can I help you mam?\\n#Person2#:...</td>\n",
       "      <td>#Person2#'s car makes noises. #Person1# thinks...</td>\n",
       "    </tr>\n",
       "    <tr>\n",
       "      <th>498</th>\n",
       "      <td>#Person1#: Hello, Amazon's customer service. H...</td>\n",
       "      <td>#Person2# calls Amazon's customer service beca...</td>\n",
       "    </tr>\n",
       "    <tr>\n",
       "      <th>499</th>\n",
       "      <td>#Person1#: I can't believe it's almost summer....</td>\n",
       "      <td>#Person2# tells #Person1# #Person2# is going t...</td>\n",
       "    </tr>\n",
       "  </tbody>\n",
       "</table>\n",
       "<p>500 rows × 2 columns</p>\n",
       "</div>"
      ],
      "text/plain": [
       "                                              examples  \\\n",
       "0    #Person1#: Hello, how are you doing today?\\n#P...   \n",
       "1    #Person1#: Hey Jimmy. Let's go workout later t...   \n",
       "2    #Person1#: I need to stop eating such unhealth...   \n",
       "3    #Person1#: Do you believe in UFOs?\\n#Person2#:...   \n",
       "4    #Person1#: Did you go to school today?\\n#Perso...   \n",
       "..                                                 ...   \n",
       "495  #Person1#: Now that it's the new year, I've de...   \n",
       "496  #Person1#: You married Joe, didn't you? \\n#Per...   \n",
       "497  #Person1#: How can I help you mam?\\n#Person2#:...   \n",
       "498  #Person1#: Hello, Amazon's customer service. H...   \n",
       "499  #Person1#: I can't believe it's almost summer....   \n",
       "\n",
       "                                          ground_truth  \n",
       "0    #Person2# has trouble breathing. The doctor as...  \n",
       "1    #Person1# invites Jimmy to go workout and pers...  \n",
       "2    #Person1# plans to stop eating unhealthy foods...  \n",
       "3    #Person2# believes in UFOs and can see them in...  \n",
       "4    #Person1# didn't go to school today. #Person2#...  \n",
       "..                                                 ...  \n",
       "495  #Person1# decides to stop smoking and come out...  \n",
       "496  #Person1# thought #Person2# married Joe. #Pers...  \n",
       "497  #Person2#'s car makes noises. #Person1# thinks...  \n",
       "498  #Person2# calls Amazon's customer service beca...  \n",
       "499  #Person2# tells #Person1# #Person2# is going t...  \n",
       "\n",
       "[500 rows x 2 columns]"
      ]
     },
     "execution_count": 72,
     "metadata": {},
     "output_type": "execute_result"
    }
   ],
   "source": [
    "ds = load_dataset(\"csv\", data_files = \"dialogsum.csv\", split=\"train\")\n",
    "ds.to_pandas()"
   ]
  },
  {
   "cell_type": "markdown",
   "id": "df7c09af-98e4-40d6-9ad7-075fa8ab7306",
   "metadata": {},
   "source": [
    "### Converting data\n",
    "\n",
    "The following dataset *does not* contain fields in the expected format. The code below shows how you can convert them to make the dataset compatible.\n",
    "\n",
    "In this specific case we load the `validation` split as it contains fewer samples (500 instead of 12.5K)."
   ]
  },
  {
   "cell_type": "code",
   "execution_count": 4,
   "id": "896492ad-5e4a-4bef-bd4a-e7c3a09e733d",
   "metadata": {},
   "outputs": [
    {
     "data": {
      "text/html": [
       "<div>\n",
       "<style scoped>\n",
       "    .dataframe tbody tr th:only-of-type {\n",
       "        vertical-align: middle;\n",
       "    }\n",
       "\n",
       "    .dataframe tbody tr th {\n",
       "        vertical-align: top;\n",
       "    }\n",
       "\n",
       "    .dataframe thead th {\n",
       "        text-align: right;\n",
       "    }\n",
       "</style>\n",
       "<table border=\"1\" class=\"dataframe\">\n",
       "  <thead>\n",
       "    <tr style=\"text-align: right;\">\n",
       "      <th></th>\n",
       "      <th>id</th>\n",
       "      <th>dialogue</th>\n",
       "      <th>summary</th>\n",
       "      <th>topic</th>\n",
       "    </tr>\n",
       "  </thead>\n",
       "  <tbody>\n",
       "    <tr>\n",
       "      <th>0</th>\n",
       "      <td>dev_0</td>\n",
       "      <td>#Person1#: Hello, how are you doing today?\\n#P...</td>\n",
       "      <td>#Person2# has trouble breathing. The doctor as...</td>\n",
       "      <td>see a doctor</td>\n",
       "    </tr>\n",
       "    <tr>\n",
       "      <th>1</th>\n",
       "      <td>dev_1</td>\n",
       "      <td>#Person1#: Hey Jimmy. Let's go workout later t...</td>\n",
       "      <td>#Person1# invites Jimmy to go workout and pers...</td>\n",
       "      <td>do exercise</td>\n",
       "    </tr>\n",
       "    <tr>\n",
       "      <th>2</th>\n",
       "      <td>dev_2</td>\n",
       "      <td>#Person1#: I need to stop eating such unhealth...</td>\n",
       "      <td>#Person1# plans to stop eating unhealthy foods...</td>\n",
       "      <td>healthy foods</td>\n",
       "    </tr>\n",
       "    <tr>\n",
       "      <th>3</th>\n",
       "      <td>dev_3</td>\n",
       "      <td>#Person1#: Do you believe in UFOs?\\n#Person2#:...</td>\n",
       "      <td>#Person2# believes in UFOs and can see them in...</td>\n",
       "      <td>UFOs and aliens</td>\n",
       "    </tr>\n",
       "    <tr>\n",
       "      <th>4</th>\n",
       "      <td>dev_4</td>\n",
       "      <td>#Person1#: Did you go to school today?\\n#Perso...</td>\n",
       "      <td>#Person1# didn't go to school today. #Person2#...</td>\n",
       "      <td>go to school</td>\n",
       "    </tr>\n",
       "    <tr>\n",
       "      <th>...</th>\n",
       "      <td>...</td>\n",
       "      <td>...</td>\n",
       "      <td>...</td>\n",
       "      <td>...</td>\n",
       "    </tr>\n",
       "    <tr>\n",
       "      <th>495</th>\n",
       "      <td>dev_495</td>\n",
       "      <td>#Person1#: Now that it's the new year, I've de...</td>\n",
       "      <td>#Person1# decides to stop smoking and come out...</td>\n",
       "      <td>the new year</td>\n",
       "    </tr>\n",
       "    <tr>\n",
       "      <th>496</th>\n",
       "      <td>dev_496</td>\n",
       "      <td>#Person1#: You married Joe, didn't you? \\n#Per...</td>\n",
       "      <td>#Person1# thought #Person2# married Joe. #Pers...</td>\n",
       "      <td>fall in love</td>\n",
       "    </tr>\n",
       "    <tr>\n",
       "      <th>497</th>\n",
       "      <td>dev_497</td>\n",
       "      <td>#Person1#: How can I help you mam?\\n#Person2#:...</td>\n",
       "      <td>#Person2#'s car makes noises. #Person1# thinks...</td>\n",
       "      <td>noises</td>\n",
       "    </tr>\n",
       "    <tr>\n",
       "      <th>498</th>\n",
       "      <td>dev_498</td>\n",
       "      <td>#Person1#: Hello, Amazon's customer service. H...</td>\n",
       "      <td>#Person2# calls Amazon's customer service beca...</td>\n",
       "      <td>a missing page</td>\n",
       "    </tr>\n",
       "    <tr>\n",
       "      <th>499</th>\n",
       "      <td>dev_499</td>\n",
       "      <td>#Person1#: I can't believe it's almost summer....</td>\n",
       "      <td>#Person2# tells #Person1# #Person2# is going t...</td>\n",
       "      <td>summer vacation</td>\n",
       "    </tr>\n",
       "  </tbody>\n",
       "</table>\n",
       "<p>500 rows × 4 columns</p>\n",
       "</div>"
      ],
      "text/plain": [
       "          id                                           dialogue  \\\n",
       "0      dev_0  #Person1#: Hello, how are you doing today?\\n#P...   \n",
       "1      dev_1  #Person1#: Hey Jimmy. Let's go workout later t...   \n",
       "2      dev_2  #Person1#: I need to stop eating such unhealth...   \n",
       "3      dev_3  #Person1#: Do you believe in UFOs?\\n#Person2#:...   \n",
       "4      dev_4  #Person1#: Did you go to school today?\\n#Perso...   \n",
       "..       ...                                                ...   \n",
       "495  dev_495  #Person1#: Now that it's the new year, I've de...   \n",
       "496  dev_496  #Person1#: You married Joe, didn't you? \\n#Per...   \n",
       "497  dev_497  #Person1#: How can I help you mam?\\n#Person2#:...   \n",
       "498  dev_498  #Person1#: Hello, Amazon's customer service. H...   \n",
       "499  dev_499  #Person1#: I can't believe it's almost summer....   \n",
       "\n",
       "                                               summary            topic  \n",
       "0    #Person2# has trouble breathing. The doctor as...     see a doctor  \n",
       "1    #Person1# invites Jimmy to go workout and pers...      do exercise  \n",
       "2    #Person1# plans to stop eating unhealthy foods...    healthy foods  \n",
       "3    #Person2# believes in UFOs and can see them in...  UFOs and aliens  \n",
       "4    #Person1# didn't go to school today. #Person2#...     go to school  \n",
       "..                                                 ...              ...  \n",
       "495  #Person1# decides to stop smoking and come out...     the new year  \n",
       "496  #Person1# thought #Person2# married Joe. #Pers...     fall in love  \n",
       "497  #Person2#'s car makes noises. #Person1# thinks...           noises  \n",
       "498  #Person2# calls Amazon's customer service beca...   a missing page  \n",
       "499  #Person2# tells #Person1# #Person2# is going t...  summer vacation  \n",
       "\n",
       "[500 rows x 4 columns]"
      ]
     },
     "execution_count": 4,
     "metadata": {},
     "output_type": "execute_result"
    }
   ],
   "source": [
    "### PREPARING DATASET (WITH GROUND TRUTH) FOR LM-BUDDY JOB\n",
    "dataset='knkarthick/dialogsum'\n",
    "ds = load_dataset(dataset, split='validation')\n",
    "\n",
    "# first, show what the dataset looks like\n",
    "ds.to_pandas()"
   ]
  },
  {
   "cell_type": "code",
   "execution_count": 5,
   "id": "6615c057-6214-44cc-8e3e-d08335896972",
   "metadata": {},
   "outputs": [],
   "source": [
    "# the following code removes unwanted fields and renames the remaining ones\n",
    "# so they are compatible\n",
    "ds = ds.remove_columns([\"id\", \"topic\"])\n",
    "ds = ds.rename_column(\"summary\", \"ground_truth\")"
   ]
  },
  {
   "cell_type": "code",
   "execution_count": 6,
   "id": "7a218912-f25a-486e-89d9-2bebadb9a685",
   "metadata": {},
   "outputs": [
    {
     "data": {
      "text/html": [
       "<div>\n",
       "<style scoped>\n",
       "    .dataframe tbody tr th:only-of-type {\n",
       "        vertical-align: middle;\n",
       "    }\n",
       "\n",
       "    .dataframe tbody tr th {\n",
       "        vertical-align: top;\n",
       "    }\n",
       "\n",
       "    .dataframe thead th {\n",
       "        text-align: right;\n",
       "    }\n",
       "</style>\n",
       "<table border=\"1\" class=\"dataframe\">\n",
       "  <thead>\n",
       "    <tr style=\"text-align: right;\">\n",
       "      <th></th>\n",
       "      <th>examples</th>\n",
       "      <th>ground_truth</th>\n",
       "    </tr>\n",
       "  </thead>\n",
       "  <tbody>\n",
       "    <tr>\n",
       "      <th>0</th>\n",
       "      <td>#Person1#: Hello, how are you doing today?\\n#P...</td>\n",
       "      <td>#Person2# has trouble breathing. The doctor as...</td>\n",
       "    </tr>\n",
       "    <tr>\n",
       "      <th>1</th>\n",
       "      <td>#Person1#: Hey Jimmy. Let's go workout later t...</td>\n",
       "      <td>#Person1# invites Jimmy to go workout and pers...</td>\n",
       "    </tr>\n",
       "    <tr>\n",
       "      <th>2</th>\n",
       "      <td>#Person1#: I need to stop eating such unhealth...</td>\n",
       "      <td>#Person1# plans to stop eating unhealthy foods...</td>\n",
       "    </tr>\n",
       "    <tr>\n",
       "      <th>3</th>\n",
       "      <td>#Person1#: Do you believe in UFOs?\\n#Person2#:...</td>\n",
       "      <td>#Person2# believes in UFOs and can see them in...</td>\n",
       "    </tr>\n",
       "    <tr>\n",
       "      <th>4</th>\n",
       "      <td>#Person1#: Did you go to school today?\\n#Perso...</td>\n",
       "      <td>#Person1# didn't go to school today. #Person2#...</td>\n",
       "    </tr>\n",
       "    <tr>\n",
       "      <th>...</th>\n",
       "      <td>...</td>\n",
       "      <td>...</td>\n",
       "    </tr>\n",
       "    <tr>\n",
       "      <th>495</th>\n",
       "      <td>#Person1#: Now that it's the new year, I've de...</td>\n",
       "      <td>#Person1# decides to stop smoking and come out...</td>\n",
       "    </tr>\n",
       "    <tr>\n",
       "      <th>496</th>\n",
       "      <td>#Person1#: You married Joe, didn't you? \\n#Per...</td>\n",
       "      <td>#Person1# thought #Person2# married Joe. #Pers...</td>\n",
       "    </tr>\n",
       "    <tr>\n",
       "      <th>497</th>\n",
       "      <td>#Person1#: How can I help you mam?\\n#Person2#:...</td>\n",
       "      <td>#Person2#'s car makes noises. #Person1# thinks...</td>\n",
       "    </tr>\n",
       "    <tr>\n",
       "      <th>498</th>\n",
       "      <td>#Person1#: Hello, Amazon's customer service. H...</td>\n",
       "      <td>#Person2# calls Amazon's customer service beca...</td>\n",
       "    </tr>\n",
       "    <tr>\n",
       "      <th>499</th>\n",
       "      <td>#Person1#: I can't believe it's almost summer....</td>\n",
       "      <td>#Person2# tells #Person1# #Person2# is going t...</td>\n",
       "    </tr>\n",
       "  </tbody>\n",
       "</table>\n",
       "<p>500 rows × 2 columns</p>\n",
       "</div>"
      ],
      "text/plain": [
       "                                              examples  \\\n",
       "0    #Person1#: Hello, how are you doing today?\\n#P...   \n",
       "1    #Person1#: Hey Jimmy. Let's go workout later t...   \n",
       "2    #Person1#: I need to stop eating such unhealth...   \n",
       "3    #Person1#: Do you believe in UFOs?\\n#Person2#:...   \n",
       "4    #Person1#: Did you go to school today?\\n#Perso...   \n",
       "..                                                 ...   \n",
       "495  #Person1#: Now that it's the new year, I've de...   \n",
       "496  #Person1#: You married Joe, didn't you? \\n#Per...   \n",
       "497  #Person1#: How can I help you mam?\\n#Person2#:...   \n",
       "498  #Person1#: Hello, Amazon's customer service. H...   \n",
       "499  #Person1#: I can't believe it's almost summer....   \n",
       "\n",
       "                                          ground_truth  \n",
       "0    #Person2# has trouble breathing. The doctor as...  \n",
       "1    #Person1# invites Jimmy to go workout and pers...  \n",
       "2    #Person1# plans to stop eating unhealthy foods...  \n",
       "3    #Person2# believes in UFOs and can see them in...  \n",
       "4    #Person1# didn't go to school today. #Person2#...  \n",
       "..                                                 ...  \n",
       "495  #Person1# decides to stop smoking and come out...  \n",
       "496  #Person1# thought #Person2# married Joe. #Pers...  \n",
       "497  #Person2#'s car makes noises. #Person1# thinks...  \n",
       "498  #Person2# calls Amazon's customer service beca...  \n",
       "499  #Person2# tells #Person1# #Person2# is going t...  \n",
       "\n",
       "[500 rows x 2 columns]"
      ]
     },
     "execution_count": 6,
     "metadata": {},
     "output_type": "execute_result"
    }
   ],
   "source": [
    "ds = ds.rename_column(\"dialogue\", \"examples\")\n",
    "ds = ds.to_pandas()\n",
    "\n",
    "### Extra code to add prompt to each sample:\n",
    "### (this assumes you have not renamed the \"dialogue\" column yet)\n",
    "# def make_prompt(row):\n",
    "#     prompt = \"\"\"<s>[INST]Please summarize the following in at most two sentences:\n",
    "# {text}[/INST]\"\"\"\n",
    "#     return prompt.format(text=row.dialogue)\n",
    "\n",
    "# ds['examples'] = ds.apply(make_prompt,axis=1)\n",
    "# ds = ds.drop(columns=[\"dialogue\"])\n",
    "\n",
    "ds"
   ]
  },
  {
   "cell_type": "markdown",
   "id": "33c7c28a-b42e-4ea6-a4f4-113a34d328ec",
   "metadata": {},
   "source": [
    "### Saving the dataset\n",
    "\n",
    "Once data is converted, you can save the dataset locally so it is ready for the upload"
   ]
  },
  {
   "cell_type": "code",
   "execution_count": 7,
   "id": "53ead9cf-96ce-4d6e-a046-e99f05494f6b",
   "metadata": {
    "scrolled": true
   },
   "outputs": [],
   "source": [
    "dataset_name = \"dialogsum_converted.csv\"\n",
    "ds.to_csv(dataset_name, index=False)"
   ]
  },
  {
   "cell_type": "markdown",
   "id": "10cd2727-f454-4d05-9dfc-2e7e04525200",
   "metadata": {},
   "source": [
    "## Dataset Upload"
   ]
  },
  {
   "cell_type": "code",
   "execution_count": 8,
   "id": "ba9aec15-f008-4ca3-9dc6-9b1cf76c0bd1",
   "metadata": {},
   "outputs": [],
   "source": [
    "# r = ld.dataset_upload(dataset_name)\n",
    "# dataset_id = ld.get_resource_id(r)\n",
    "\n",
    "dataset_id = \"7f514028-766e-4445-8241-369f142951e2\" # dialogsum_converted\n",
    "# dataset_id = \"e4c78c34-1869-45b4-8e73-f0aa8e44741b\" # dialogsum_converted_prompts"
   ]
  },
  {
   "cell_type": "markdown",
   "id": "af052281-3a03-4d86-ae41-2e926cd58f31",
   "metadata": {},
   "source": [
    "### Check dataset info\n",
    "\n",
    "At any point, one can get dataset info by just providing its UUID:"
   ]
  },
  {
   "cell_type": "code",
   "execution_count": 9,
   "id": "63aeb069-17a0-4112-912c-aea738ee18ef",
   "metadata": {},
   "outputs": [
    {
     "name": "stdout",
     "output_type": "stream",
     "text": [
      "{\n",
      "  \"id\": \"7f514028-766e-4445-8241-369f142951e2\",\n",
      "  \"filename\": \"dialogsum_converted.csv\",\n",
      "  \"format\": \"experiment\",\n",
      "  \"size\": 430961,\n",
      "  \"created_at\": \"2024-07-26T12:23:43.870732Z\"\n",
      "}\n"
     ]
    }
   ],
   "source": [
    "r = ld.dataset_info(dataset_id)"
   ]
  },
  {
   "cell_type": "markdown",
   "id": "f0bb60fc-1045-4cc4-bf38-2254d09d4f23",
   "metadata": {},
   "source": [
    "## Model Choice\n",
    "\n",
    "For now we just provide models as a list, later we'll have an API endpoint that returns models for a given task (still as a list)"
   ]
  },
  {
   "cell_type": "code",
   "execution_count": 10,
   "id": "6eded5fb-92b7-4aad-99f4-45440e4c245a",
   "metadata": {},
   "outputs": [],
   "source": [
    "enc_dec_models = [\n",
    "    'hf://facebook/bart-large-cnn',\n",
    "    'hf://mikeadimech/longformer-qmsum-meeting-summarization', \n",
    "    'hf://mrm8488/t5-base-finetuned-summarize-news',\n",
    "    'hf://Falconsai/text_summarization',\n",
    "]\n",
    "\n",
    "dec_models = [\n",
    "    'hf://mistralai/Mistral-7B-Instruct-v0.3',\n",
    "    'hf://meta-llama/Meta-Llama-3-8B',\n",
    "    'hf://microsoft/Phi-3-mini-4k-instruct',\n",
    "]\n",
    "\n",
    "gpts = [\n",
    "    \"oai://gpt-4o-mini\",\n",
    "    \"oai://gpt-4-turbo\",\n",
    "    \"oai://gpt-3.5-turbo-0125\"  \n",
    "]\n",
    "\n",
    "# models = enc_dec_models + dec_models\n",
    "# models = [gpts[1]]\n",
    "# models = enc_dec_models\n",
    "# models = [dec_models[0]]\n",
    "\n",
    "models = [\n",
    "    'hf://facebook/bart-large-cnn',\n",
    "    'hf://mistralai/Mistral-7B-Instruct-v0.3',\n",
    "    \"oai://gpt-4-turbo\",\n",
    "]\n",
    "\n",
    "# models = [\n",
    "#     'hf://mistralai/Mistral-7B-Instruct-v0.3',\n",
    "# ]"
   ]
  },
  {
   "cell_type": "code",
   "execution_count": 11,
   "id": "b1d01eac-06b5-438e-9e68-45b96ca92e37",
   "metadata": {},
   "outputs": [
    {
     "data": {
      "text/plain": [
       "['hf://facebook/bart-large-cnn',\n",
       " 'hf://mistralai/Mistral-7B-Instruct-v0.3',\n",
       " 'oai://gpt-4-turbo']"
      ]
     },
     "execution_count": 11,
     "metadata": {},
     "output_type": "execute_result"
    }
   ],
   "source": [
    "models"
   ]
  },
  {
   "cell_type": "markdown",
   "id": "4ec82900-07bd-4a48-a73e-e4438857ca2e",
   "metadata": {},
   "source": [
    "## Run Evaluations"
   ]
  },
  {
   "cell_type": "code",
   "execution_count": 18,
   "id": "6b73f6a1-7be9-43a7-8304-4cb6a408318e",
   "metadata": {},
   "outputs": [
    {
     "name": "stdout",
     "output_type": "stream",
     "text": [
      "{\n",
      "  \"id\": \"7a7452cf-8f7a-40c7-904c-0b048e5a9801\",\n",
      "  \"name\": \"testing_lumigator\",\n",
      "  \"description\": \"Testing hf://facebook/bart-large-cnn summarization model on dialogsum_converted.csv\",\n",
      "  \"status\": \"created\",\n",
      "  \"created_at\": \"2024-07-26T13:38:51.027861Z\",\n",
      "  \"updated_at\": null\n",
      "}\n",
      "{\n",
      "  \"id\": \"7ee2d8e0-63a9-4f30-95bc-96a2fc588bc4\",\n",
      "  \"name\": \"testing_lumigator\",\n",
      "  \"description\": \"Testing hf://mistralai/Mistral-7B-Instruct-v0.3 summarization model on dialogsum_converted.csv\",\n",
      "  \"status\": \"created\",\n",
      "  \"created_at\": \"2024-07-26T13:38:51.603253Z\",\n",
      "  \"updated_at\": null\n",
      "}\n",
      "{\n",
      "  \"id\": \"a188c2ad-32a5-4eba-bae2-7d5e68dbe92f\",\n",
      "  \"name\": \"testing_lumigator\",\n",
      "  \"description\": \"Testing oai://gpt-4-turbo summarization model on dialogsum_converted.csv\",\n",
      "  \"status\": \"created\",\n",
      "  \"created_at\": \"2024-07-26T13:38:52.169213Z\",\n",
      "  \"updated_at\": null\n",
      "}\n"
     ]
    }
   ],
   "source": [
    "# change the following to 0 to use all samples in the dataset\n",
    "max_samples = 10\n",
    "\n",
    "responses = []\n",
    "for model in models:\n",
    "    name = team_name\n",
    "    descr = f\"Testing {model} summarization model on {dataset_name}\"\n",
    "    responses.append(ld.experiments_submit(model, name, descr, dataset_id, max_samples))"
   ]
  },
  {
   "cell_type": "markdown",
   "id": "62ab9922-02c1-4163-b07c-c60ff0c7e9dd",
   "metadata": {},
   "source": [
    "### Track evaluation jobs\n",
    "\n",
    "You can track the jobs at the following URLs:"
   ]
  },
  {
   "cell_type": "code",
   "execution_count": 19,
   "id": "3a0d7291-c52f-46fc-b3f3-4fe8107e6396",
   "metadata": {},
   "outputs": [
    {
     "name": "stdout",
     "output_type": "stream",
     "text": [
      "http://10.144.20.102:8265/#/jobs/7a7452cf-8f7a-40c7-904c-0b048e5a9801\n",
      "http://10.144.20.102:8265/#/jobs/7ee2d8e0-63a9-4f30-95bc-96a2fc588bc4\n",
      "http://10.144.20.102:8265/#/jobs/a188c2ad-32a5-4eba-bae2-7d5e68dbe92f\n"
     ]
    }
   ],
   "source": [
    "job_ids = [ld.get_resource_id(r) for r in responses]\n",
    "\n",
    "for job_id in job_ids:\n",
    "    print(ld.get_ray_link(job_id, ld.RAY_SERVER_URL))"
   ]
  },
  {
   "cell_type": "markdown",
   "id": "e5ab5d44-4f7c-42d5-81f8-a7535b47e42d",
   "metadata": {},
   "source": [
    "... or you can run the following cell to keep watching them until they are all completed:"
   ]
  },
  {
   "cell_type": "code",
   "execution_count": 20,
   "id": "08e21c14-c947-4850-b73d-fe6aa8488046",
   "metadata": {},
   "outputs": [
    {
     "name": "stdout",
     "output_type": "stream",
     "text": [
      "7a7452cf-8f7a-40c7-904c-0b048e5a9801: SUCCEEDED\n",
      "7ee2d8e0-63a9-4f30-95bc-96a2fc588bc4: SUCCEEDED\n",
      "a188c2ad-32a5-4eba-bae2-7d5e68dbe92f: SUCCEEDED\n"
     ]
    }
   ],
   "source": [
    "wip = ld.show_experiment_statuses(job_ids)\n",
    "while wip == True:\n",
    "    time.sleep(5)\n",
    "    clear_output()\n",
    "    wip=ld.show_experiment_statuses(job_ids)"
   ]
  },
  {
   "cell_type": "markdown",
   "id": "39df03c2-fb96-447f-aed3-b1c085cfeb42",
   "metadata": {},
   "source": [
    "## See / Compare Evaluation Results"
   ]
  },
  {
   "cell_type": "code",
   "execution_count": 21,
   "id": "5b8709b8-59ba-4a9c-81bd-59b2fc612f99",
   "metadata": {},
   "outputs": [],
   "source": [
    "# after the jobs complete, gather evaluation results\n",
    "eval_results = []\n",
    "for job_id in job_ids:\n",
    "    eval_results.append(ld.experiments_result_download(job_id))\n",
    "\n",
    "# convert results into a pandas dataframe\n",
    "eval_table = ld.eval_results_to_table(models, eval_results)"
   ]
  },
  {
   "cell_type": "code",
   "execution_count": 22,
   "id": "10cf5e90-7fa2-4a7d-98bf-2ff5d736c05e",
   "metadata": {},
   "outputs": [
    {
     "data": {
      "text/html": [
       "<div>\n",
       "<style scoped>\n",
       "    .dataframe tbody tr th:only-of-type {\n",
       "        vertical-align: middle;\n",
       "    }\n",
       "\n",
       "    .dataframe tbody tr th {\n",
       "        vertical-align: top;\n",
       "    }\n",
       "\n",
       "    .dataframe thead th {\n",
       "        text-align: right;\n",
       "    }\n",
       "</style>\n",
       "<table border=\"1\" class=\"dataframe\">\n",
       "  <thead>\n",
       "    <tr style=\"text-align: right;\">\n",
       "      <th></th>\n",
       "      <th>Model</th>\n",
       "      <th>Meteor</th>\n",
       "      <th>BERT Precision</th>\n",
       "      <th>BERT Recall</th>\n",
       "      <th>BERT F1</th>\n",
       "      <th>ROUGE-1</th>\n",
       "      <th>ROUGE-2</th>\n",
       "      <th>ROUGE-L</th>\n",
       "    </tr>\n",
       "  </thead>\n",
       "  <tbody>\n",
       "    <tr>\n",
       "      <th>0</th>\n",
       "      <td>facebook/bart-large-cnn</td>\n",
       "      <td>0.327604</td>\n",
       "      <td>0.867442</td>\n",
       "      <td>0.864527</td>\n",
       "      <td>0.865518</td>\n",
       "      <td>0.291195</td>\n",
       "      <td>0.140441</td>\n",
       "      <td>0.232568</td>\n",
       "    </tr>\n",
       "    <tr>\n",
       "      <th>1</th>\n",
       "      <td>mistralai/Mistral-7B-Instruct-v0.3</td>\n",
       "      <td>0.287170</td>\n",
       "      <td>0.798274</td>\n",
       "      <td>0.877465</td>\n",
       "      <td>0.835923</td>\n",
       "      <td>0.126657</td>\n",
       "      <td>0.045201</td>\n",
       "      <td>0.103069</td>\n",
       "    </tr>\n",
       "    <tr>\n",
       "      <th>2</th>\n",
       "      <td>gpt-4-turbo</td>\n",
       "      <td>0.277295</td>\n",
       "      <td>0.827320</td>\n",
       "      <td>0.870236</td>\n",
       "      <td>0.847986</td>\n",
       "      <td>0.146265</td>\n",
       "      <td>0.012322</td>\n",
       "      <td>0.094301</td>\n",
       "    </tr>\n",
       "  </tbody>\n",
       "</table>\n",
       "</div>"
      ],
      "text/plain": [
       "                                Model    Meteor  BERT Precision  BERT Recall  \\\n",
       "0             facebook/bart-large-cnn  0.327604        0.867442     0.864527   \n",
       "1  mistralai/Mistral-7B-Instruct-v0.3  0.287170        0.798274     0.877465   \n",
       "2                         gpt-4-turbo  0.277295        0.827320     0.870236   \n",
       "\n",
       "    BERT F1   ROUGE-1   ROUGE-2   ROUGE-L  \n",
       "0  0.865518  0.291195  0.140441  0.232568  \n",
       "1  0.835923  0.126657  0.045201  0.103069  \n",
       "2  0.847986  0.146265  0.012322  0.094301  "
      ]
     },
     "execution_count": 22,
     "metadata": {},
     "output_type": "execute_result"
    }
   ],
   "source": [
    "eval_table"
   ]
  },
  {
   "cell_type": "code",
   "execution_count": 23,
   "id": "eadbdaec-a1e9-4731-bfdd-b471e6a0fbcf",
   "metadata": {},
   "outputs": [
    {
     "data": {
      "text/plain": [
       "{'bertscore': {'precision': [0.8324013352394104,\n",
       "   0.8265461921691895,\n",
       "   0.8362937569618225,\n",
       "   0.8076360821723938,\n",
       "   0.822287917137146,\n",
       "   0.8309663534164429,\n",
       "   0.824184000492096,\n",
       "   0.8419346809387207,\n",
       "   0.8172837495803833,\n",
       "   0.8336615562438965],\n",
       "  'recall': [0.883567750453949,\n",
       "   0.8466815948486328,\n",
       "   0.8746528029441833,\n",
       "   0.8509311079978943,\n",
       "   0.8974119424819946,\n",
       "   0.8834987878799438,\n",
       "   0.8926336765289307,\n",
       "   0.8897188901901245,\n",
       "   0.8822887539863586,\n",
       "   0.8009738922119141],\n",
       "  'f1': [0.8572217226028442,\n",
       "   0.8364927768707275,\n",
       "   0.8550432324409485,\n",
       "   0.8287185430526733,\n",
       "   0.8582090735435486,\n",
       "   0.8564277291297913,\n",
       "   0.8570443391799927,\n",
       "   0.865167498588562,\n",
       "   0.8485430479049683,\n",
       "   0.816990852355957],\n",
       "  'hashcode': 'roberta-large_L17_no-idf_version=0.3.12(hug_trans=4.38.0)',\n",
       "  'precision_mean': 0.8273195624351501,\n",
       "  'recall_mean': 0.8702359199523926,\n",
       "  'f1_mean': 0.8479858815670014},\n",
       " 'rouge': {'rouge1': [0.1565217391304348,\n",
       "   0.05633802816901408,\n",
       "   0.11965811965811965,\n",
       "   0.17341040462427745,\n",
       "   0.15267175572519084,\n",
       "   0.1322314049586777,\n",
       "   0.25,\n",
       "   0.1758241758241758,\n",
       "   0.11695906432748537,\n",
       "   0.12903225806451615],\n",
       "  'rouge2': [0.0,\n",
       "   0.0,\n",
       "   0.0,\n",
       "   0.0,\n",
       "   0.015503875968992248,\n",
       "   0.016806722689075633,\n",
       "   0.0909090909090909,\n",
       "   0.0,\n",
       "   0.0,\n",
       "   0.0],\n",
       "  'rougeL': [0.06956521739130433,\n",
       "   0.05633802816901408,\n",
       "   0.08547008547008547,\n",
       "   0.11560693641618497,\n",
       "   0.12213740458015265,\n",
       "   0.08264462809917356,\n",
       "   0.16666666666666666,\n",
       "   0.10989010989010989,\n",
       "   0.07017543859649122,\n",
       "   0.06451612903225808],\n",
       "  'rougeLsum': [0.08695652173913043,\n",
       "   0.05633802816901408,\n",
       "   0.06837606837606838,\n",
       "   0.12716763005780346,\n",
       "   0.10687022900763359,\n",
       "   0.09917355371900827,\n",
       "   0.25,\n",
       "   0.13186813186813184,\n",
       "   0.08187134502923976,\n",
       "   0.06451612903225808],\n",
       "  'rouge1_mean': 0.1462646950481892,\n",
       "  'rouge2_mean': 0.01232196895671588,\n",
       "  'rougeL_mean': 0.09430106443114408,\n",
       "  'rougeLsum_mean': 0.10731376369982878},\n",
       " 'meteor': {'meteor': [0.2513966480446928,\n",
       "   0.0992063492063492,\n",
       "   0.37507989369933065,\n",
       "   0.264041084776565,\n",
       "   0.4186007957559683,\n",
       "   0.2918266071860844,\n",
       "   0.39999999999999997,\n",
       "   0.28993528610354224,\n",
       "   0.2989041877138667,\n",
       "   0.08395522388059702],\n",
       "  'meteor_mean': 0.2772946076366996},\n",
       " 'summarization_time': 47.134835107950494,\n",
       " 'evaluation_time': 7.1723531919997185,\n",
       " 'examples': [\"#Person1#: Hello, how are you doing today?\\n#Person2#: I ' Ve been having trouble breathing lately.\\n#Person1#: Have you had any type of cold lately?\\n#Person2#: No, I haven ' t had a cold. I just have a heavy feeling in my chest when I try to breathe.\\n#Person1#: Do you have any allergies that you know of?\\n#Person2#: No, I don ' t have any allergies that I know of.\\n#Person1#: Does this happen all the time or mostly when you are active?\\n#Person2#: It happens a lot when I work out.\\n#Person1#: I am going to send you to a pulmonary specialist who can run tests on you for asthma.\\n#Person2#: Thank you for your help, doctor.\",\n",
       "  \"#Person1#: Hey Jimmy. Let's go workout later today.\\n#Person2#: Sure. What time do you want to go?\\n#Person1#: How about at 3:30?\\n#Person2#: That sounds good. Today we work on Legs and forearm.\\n#Person1#: Hey. I just played basketball earlier, so my legs are a little sore. Let's work out on arms and stomach today.\\n#Person2#: I'm on a weekly schedule. You're messing everything up.\\n#Person1#: C'mon. We're only switching two days. You can do legs on Friday.\\n#Person2#: Aright. I'll meet you at the gym at 3:30 then.\",\n",
       "  \"#Person1#: I need to stop eating such unhealthy foods.\\n#Person2#: I know what you mean. I've started eating better myself.\\n#Person1#: What foods do you eat now?\\n#Person2#: I tend to stick to fruits, vegetables, and chicken.\\n#Person1#: Those are the only things you eat?\\n#Person2#: That's basically what I eat.\\n#Person1#: Why aren't you eating anything else?\\n#Person2#: Well, fruits and vegetables are very healthy.\\n#Person1#: And the chicken?\\n#Person2#: It's really healthy to eat when you bake it.\\n#Person1#: I guess that does sound a lot healthier.\",\n",
       "  \"#Person1#: Do you believe in UFOs?\\n#Person2#: Of course, they are out there.\\n#Person1#: But I never saw them.\\n#Person2#: Are you stupid? They are called UFOs, so not everybody can see them.\\n#Person1#: You mean that you can them.\\n#Person2#: That's right. I can see them in my dreams.\\n#Person1#: They come to the earth?\\n#Person2#: No. Their task is to send the aliens here from the outer space.\\n#Person1#: Aliens from the outer space? Do you talk to them? What do they look like?\\n#Person2#: OK, OK, one by one, please! They look like robots, but they can speak. Their mission is to make friends with human beings.\\n#Person1#: That means that you talk to them? In which language?\\n#Person2#: Of course in English, they learn English on Mars too.\\n#Person1#: Wow. Sounds fantastic!\",\n",
       "  \"#Person1#: Did you go to school today?\\n#Person2#: Of course. Did you?\\n#Person1#: I didn't want to, so I didn't.\\n#Person2#: That's sad, but have you gone to the movies recently?\\n#Person1#: That's a switch.\\n#Person2#: I'm serious, have you?\\n#Person1#: No, I haven't. Why?\\n#Person2#: I really want to go to the movies this weekend.\\n#Person1#: So go then.\\n#Person2#: I really don't want to go by myself.\\n#Person1#: Well anyway, do you plan on going to school tomorrow?\\n#Person2#: No, I think I'm going to go to the movies.\",\n",
       "  \"#Person1#: Honey, I think you should quit smoking.\\n#Person2#: Why? You said I was hot when smoking.\\n#Person1#: But I want you to be fit.\\n#Person2#: Smoking is killing. I know.\\n#Person1#: Check out this article. It says smoking can lead to lung cancer.\\n#Person2#: I don't believe it.\\n#Person1#: But you know that smoking does harm to health, right?\\n#Person2#: Of course I know it, but you know it's hard to quit smoking. . .\\n#Person1#: Stop beating around the bush. Will you quit or not?\\n#Person2#: Yes, ma'am. Whatever you say.\",\n",
       "  \"#Person1#: Excuse me, Mr. White? I just need you to sign these before I leave.\\n#Person2#: Sure, Sherry. Sorry to have kept you waiting. If you hadn't told me, I probably would have just forgotten all about them.\\n#Person1#: That's my job, sir. Just one more signature here, please.\\n#Person2#: There you are.\",\n",
       "  \"#Person1#: Hey, Karen. Look like you got some sun this weekend.\\n#Person2#: Yeah? I guess so. I spent the weekend at beach.\\n#Person1#: That's great. Where did you stay?\\n#Person2#: Some friends of my parents live out there, and they invited me there.\\n#Person1#: So, what did you do out there? I mean besides bask in the sun, obviously.\\n#Person2#: I jogged up and down the beach and played volleyball. You know I never realized how hard it is to run on sand. I couldn't get through a whole game before I had to sit down.\\n#Person1#: Not to mention cooler. Did you go swimming?\\n#Person2#: I wanted to, but the water is too cold, and I just wetted in up to my knees.\\n#Person1#: It all sounds so relaxing. I wish I could get away to the beach like that.\\n#Person2#: It looks like you could use it. Don't tell me you spent the weekend in the library again.\",\n",
       "  \"#Person1#: How do you usually spend your leisure time? I mean, do you have any special interests out of your job?\\n#Person2#: Of course. You see, almost everyone has some kind of hobby\\n#Person1#: Yeah, you're quite right and what's your hobby?\\n#Person2#: I like taking photos out of door.\\n#Person1#: Oh, photography, It's really a good hobby.\\n#Person2#: Yes, I usually develop and print all my own photos.\\n#Person1#: You yourself have a photo studio?\\n#Person2#: Yes, simple as it is. It does work.\",\n",
       "  \"#Person1#: have you ever seen Bill Gate's home on the internet?\\n#Person2#: no. what's it like?\\n#Person1#: it's got its own library, theatre, swimming pool, and a guest house. The house itself has about ten different rooms that are all hooked up to computers so you can get things done in each room through.\\n#Person2#: would you want to live there?\\n#Person1#: I think his house is fantastic, but I wouldn't want to live there. You would have to hire one or two people to clean all the rooms in the house, plus a few people to take care of the gardens.\\n#Person2#: what's your dream home like then?\\n#Person1#: my dream home is actually just a small cottage in a quite village in England.\\n#Person2#: would you want to buy an old cottage or build a new one yourself?\\n#Person1#: old homes are great because they've got character. I think that's important.\\n#Person2#: it that why you wear second-hand cloths as well? Because they've got character?\\n#Person1#: no, that's just because I don't have enough money to buy new cloths all the time!\\n#Person2#: I see. If you lived in an old house, would it be decorated in a modern way?\\n#Person1#: no, I'd definitely try to restore it to its original state. I love to imagine what it'd be like to live in another time in history and living in a house decorated like it would have been 200 years a\"],\n",
       " 'ground_truth': ['#Person2# has trouble breathing. The doctor asks #Person2# about it and will send #Person2# to a pulmonary specialist.',\n",
       "  '#Person1# invites Jimmy to go workout and persuades him into working out on arms and stomach.',\n",
       "  \"#Person1# plans to stop eating unhealthy foods, and #Person2# shares #Person2#'s healthy recipe with #Person1#.\",\n",
       "  \"#Person2# believes in UFOs and can see them in dreams. #Person1# asks #Person2# about UFOs and aliens in #Person2#'s dreams and finds #Person2#'s dreams fantastic.\",\n",
       "  \"#Person1# didn't go to school today. #Person2# wants to skip class tomorrow to go to the movies.\",\n",
       "  \"#Person1# asks #Person2# to quit smoking for health. #Person2# thinks it's hard but agrees.\",\n",
       "  'Sherry reminds Mr. White to sign.',\n",
       "  \"#Person1# asks Karen where Karen stayed and how Karen spent the weekend at the beach. #Person1# thinks it's relaxing and wishes to go there.\",\n",
       "  \"#Person1# asks about #Person2#'s hobbies. #Person2# likes photography and has a photo studio.\",\n",
       "  \"#Person1# and #Person2# talk about Bill Gate's home. #Person1# thinks it's fantastic but wouldn't want to live there. #Person2# asks about #Person1#'s dream house. #Person1# wants to live in a small and old cottage for its character.\"],\n",
       " 'predictions': [\"#Person1#: You're welcome! It's important to get to the bottom of this so you can feel better. Meanwhile, try to avoid strenuous exercise and smoky environments until we have more information.\\n#Person2#: I will do that. How soon can I get an appointment with the specialist?\\n#Person1#: I'll make the referral right away, and they should contact you within a few days to schedule an appointment.\\n#Person2#: That sounds great. Thanks again for your assistance.\\n#Person1#: Of course, take care and let me know if there's anything else you need in the meantime.\",\n",
       "  \"#Person1#: Thanks for being flexible, man. I appreciate it.\\n#Person2#: No problem. I’ll just switch things around a bit. It’s not a big deal.\\n#Person1#: Alright, I'll grab our favorite protein shakes on the way. See you there!\\n#Person2#: Perfect! That will give us a nice boost. See you at the gym.\",\n",
       "  \"#Person2#: Definitely! Baking chicken reduces the amount of fat compared to frying. It's a great source of lean protein.\\n#Person1#: What about when you want to eat out or don't feel like cooking?\\n#Person2#: I try to pick places with healthier options like salads or grilled dishes. It helps to look at the menu ahead of time to make a good choice.\\n#Person1#: That’s a good strategy. I should start doing that.\\n#Person2#: It makes a big difference. Planning ahead can really help you stick to healthier choices.\\n#Person1#: Thanks for the advice. I’ll definitely try that.\",\n",
       "  \"#Person2#: It really is! I mean, think about it. Communication is the first step in any meaningful relationship.\\n\\n#Person1#: So, you are saying they want to build a relationship with us? Why?\\n\\n#Person2#: Exactly! They're curious about our planet and culture, just like how we're fascinated by outer space and the possibility of other life forms.\\n\\n#Person1#: That’s pretty cool. Do they share any knowledge with us?\\n\\n#Person2#: Yes, they do. They share insights on their technology and their ways of sustainable living. It’s like an intergalactic exchange program!\\n\\n#Person1#: I wish I could meet them too. It sounds like an incredible experience!\\n\\n#Person2#: Maybe one day you will! Just keep an open mind and who knows? Maybe they'll appear in your dreams too.\\n\\n#Person1#: I’ll definitely try to keep an open mind about it. Thanks for sharing all this.\",\n",
       "  \"#Person1#: Going to skip school for a movie? Sounds like a plan.\\n#Person2#: Yeah, sometimes you just need a break, you know? Want to join me?\\n#Person1#: I might consider it. What movie are you thinking of watching?\\n#Person2#: There’s a new action movie that just came out. It's supposed to be really good.\\n#Person1#: Sounds interesting. Maybe I will join you after all. Let's plan the timings.\\n#Person2#: Awesome! Let’s meet up around noon and grab some lunch before the movie.\\n#Person1#: Perfect, it’s a date then. Looking forward to it!\\n#Person2#: Me too! It will be a fun break from the usual routine. See you tomorrow!\",\n",
       "  \"#Person1#: Thank you, love. It’s really for the best. How about we look into some support groups or maybe try nicotine patches?\\n#Person2#: Sure, I guess trying won't hurt. But I’ll need your support through this.\\n#Person1#: Absolutely, I’ll be with you every step of the way. We can do this together.\\n#Person2#: Thanks for pushing me. I guess I needed a little nudge.\\n#Person1#: It's because I care. I want us to have many healthy and happy years ahead.\\n#Person2#: I appreciate that. Let’s make this a new start for both of us.\\n#Person1#: Deal. Let’s get started.\",\n",
       "  '#Person1#: Thank you, Mr. White. Have a good evening!\\n#Person2#: You too, Sherry. Thanks again for the reminder.',\n",
       "  '#Person1#: Guilty as charged! I had a ton of research to do. Seems like your weekend was the ideal break.\\n#Person2#: It really was. Next time you should come, too! It’d do you some good to stretch out and get some fresh sea air.\\n#Person1#: That sounds good. I’ll definitely consider it. Maybe next time I’ll trade my books for a beach towel!',\n",
       "  '#Person1#: That’s really impressive. It must be fulfilling to see the entire process from taking the photo to developing it yourself. \\n#Person2#: Absolutely, it gives me full control over the creative process. I love experimenting with different techniques.\\n#Person1#: Do you also display your work somewhere, like online or in exhibitions?\\n#Person2#: I’ve put some of my work on social media and participated in a few local exhibitions. It’s always exciting to share what you’ve created with others.\\n#Person1#: It must be thrilling to get feedback directly from viewers. What’s your favorite subject to photograph?\\n#Person2#: I mostly enjoy landscape photography. Capturing nature’s beauty really motivates me to get outdoors and find new locations.\\n#Person1#: Landscapes, that sounds majestic. It must take you to some beautiful places.\\n#Person2#: Yes, it really does. Each trip is an adventure, and it’s thrilling to capture those moments forever. How about you? Any hobbies?\\n',\n",
       "  'go would be one way to do that. It would be like stepping back in time every time I came home.']}"
      ]
     },
     "execution_count": 23,
     "metadata": {},
     "output_type": "execute_result"
    }
   ],
   "source": [
    "eval_results[2]"
   ]
  },
  {
   "cell_type": "markdown",
   "id": "383f88d3-084b-47b1-85df-2947f4d9abf5",
   "metadata": {},
   "source": [
    "# Observability Tools\n",
    "\n",
    "This section contains tools to inspect the system, e.g. check the filesystem, the DB, etc."
   ]
  },
  {
   "cell_type": "markdown",
   "id": "bef2fad3-44bc-4d0d-981a-45fa775bcc26",
   "metadata": {},
   "source": [
    "## S3"
   ]
  },
  {
   "cell_type": "markdown",
   "id": "aaf0fa66-df7e-4589-a30a-7c3607991333",
   "metadata": {},
   "source": [
    "### Check (local) AWS credentials"
   ]
  },
  {
   "cell_type": "code",
   "execution_count": null,
   "id": "97fe29d4-ce72-4375-bb68-6c01c5979e68",
   "metadata": {},
   "outputs": [],
   "source": [
    "### Keeping the following commented to avoid having secrets saved by mistake:\n",
    "### uncomment and run to see if AWS credentials are properly set\n",
    "# import os\n",
    "# for k in [\"AWS_ACCESS_KEY_ID\", \"AWS_SECRET_ACCESS_KEY\", \"AWS_ENDPOINT_URL\"]:\n",
    "#     print(f\"[{k}]: {os.environ[k]}\")"
   ]
  },
  {
   "cell_type": "markdown",
   "id": "8d6aa507-4501-4a57-bf86-f2977527b3cf",
   "metadata": {},
   "source": [
    "### Look into S3 storage"
   ]
  },
  {
   "cell_type": "code",
   "execution_count": 11,
   "id": "49024fbc-d810-45c3-ad5b-de98745fb62c",
   "metadata": {},
   "outputs": [
    {
     "name": "stdout",
     "output_type": "stream",
     "text": [
      "                                  DIR  datasets/\n",
      "                                  DIR  experiments/\n"
     ]
    }
   ],
   "source": [
    "!s5cmd --endpoint-url $AWS_ENDPOINT_URL ls s3://lumigator-storage"
   ]
  },
  {
   "cell_type": "code",
   "execution_count": null,
   "id": "597bbda6-174d-417e-a13d-93b08c8901b3",
   "metadata": {},
   "outputs": [],
   "source": []
  }
 ],
 "metadata": {
  "kernelspec": {
   "display_name": "Python 3 (ipykernel)",
   "language": "python",
   "name": "python3"
  },
  "language_info": {
   "codemirror_mode": {
    "name": "ipython",
    "version": 3
   },
   "file_extension": ".py",
   "mimetype": "text/x-python",
   "name": "python",
   "nbconvert_exporter": "python",
   "pygments_lexer": "ipython3",
   "version": "3.11.9"
  }
 },
 "nbformat": 4,
 "nbformat_minor": 5
}
