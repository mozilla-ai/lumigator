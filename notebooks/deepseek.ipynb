{
 "cells": [
  {
   "cell_type": "code",
   "execution_count": null,
   "metadata": {},
   "outputs": [],
   "source": [
    "from pathlib import Path\n",
    "from time import sleep\n",
    "\n",
    "import requests\n",
    "from lumigator_schemas.datasets import DatasetFormat\n",
    "from lumigator_schemas.workflows import WorkflowCreateRequest, WorkflowStatus\n",
    "from lumigator_sdk.lumigator import LumigatorClient\n",
    "from lumigator_sdk.strict_schemas import ExperimentIdCreate\n",
    "\n",
    "\n",
    "def wait_for_workflow_complete(lumi_client_int: LumigatorClient, workflow_id: str):\n",
    "    \"\"\"Wait for a workflow to complete.\"\"\"\n",
    "    workflow_details = lumi_client_int.workflows.get_workflow(workflow_id)\n",
    "    while workflow_details.status not in [WorkflowStatus.SUCCEEDED, WorkflowStatus.FAILED]:\n",
    "        sleep(5)\n",
    "        workflow_details = lumi_client_int.workflows.get_workflow(workflow_id)\n",
    "    return workflow_details\n",
    "\n",
    "\n",
    "LUMI_HOST = \"localhost:8000\"\n",
    "with Path.open(\"../lumigator/sample_data/dialogsum_exc.csv\") as file:\n",
    "    dialog_data = file.read()"
   ]
  },
  {
   "cell_type": "code",
   "execution_count": null,
   "metadata": {},
   "outputs": [],
   "source": [
    "lumi_client_int = LumigatorClient(api_host=LUMI_HOST)\n",
    "dataset_response = lumi_client_int.datasets.create_dataset(\n",
    "    dataset=dialog_data, format=DatasetFormat.JOB\n",
    ")\n",
    "assert dataset_response is not None\n",
    "dataset_id = dataset_response.id"
   ]
  },
  {
   "cell_type": "code",
   "execution_count": null,
   "metadata": {},
   "outputs": [],
   "source": [
    "# Create an experiment\n",
    "request = ExperimentIdCreate(\n",
    "    name=\"test_create_exp_workflow_check_results\",\n",
    "    description=\"Test for an experiment with associated workflows\",\n",
    ")\n",
    "experiment_response = lumi_client_int.experiments.create_experiment(request)\n",
    "assert experiment_response is not None\n",
    "experiment_id = experiment_response.id"
   ]
  },
  {
   "cell_type": "code",
   "execution_count": null,
   "metadata": {},
   "outputs": [],
   "source": [
    "# Create a workflow for the experiment\n",
    "request = WorkflowCreateRequest(\n",
    "    name=\"Workflow_1\",\n",
    "    description=\"Test workflow for inf and eval\",\n",
    "    model=\"openai/gpt-4o-mini\",\n",
    "    model_url=\"openai/gpt-4o-mini\",\n",
    "    dataset=str(dataset_id),\n",
    "    experiment_id=str(experiment_id),\n",
    "    max_samples=1,\n",
    ")\n",
    "workflow_1_response = lumi_client_int.workflows.create_workflow(request)\n",
    "assert workflow_1_response is not None\n",
    "workflow_1_id = workflow_1_response.id"
   ]
  },
  {
   "cell_type": "code",
   "execution_count": null,
   "metadata": {},
   "outputs": [],
   "source": [
    "# Wait till the workflow is done\n",
    "workflow_1_details = wait_for_workflow_complete(lumi_client_int, workflow_1_id)"
   ]
  },
  {
   "cell_type": "code",
   "execution_count": null,
   "metadata": {},
   "outputs": [],
   "source": [
    "# Get the results of the experiment\n",
    "experiment_results = lumi_client_int.experiments.get_experiment(experiment_id)\n",
    "assert experiment_results is not None\n",
    "assert workflow_1_details.experiment_id == experiment_results.id\n",
    "assert len(experiment_results.workflows) == 1\n",
    "assert workflow_1_details.model_dump(\n",
    "    exclude={\"artifacts_download_url\"}\n",
    ") == experiment_results.workflows[0].model_dump(exclude={\"artifacts_download_url\"})"
   ]
  },
  {
   "cell_type": "code",
   "execution_count": null,
   "metadata": {},
   "outputs": [],
   "source": [
    "# Get the results of the experiment\n",
    "experiment_results = lumi_client_int.experiments.get_experiment(experiment_id)\n",
    "assert len(experiment_results.workflows) == 2\n",
    "assert workflow_1_details.model_dump(exclude={\"artifacts_download_url\"}) in [\n",
    "    w.model_dump(exclude={\"artifacts_download_url\"}) for w in experiment_results.workflows\n",
    "]\n",
    "\n",
    "# Get the logs\n",
    "logs_response = lumi_client_int.workflows.get_workflow_logs(workflow_1_details.id)\n",
    "logs_response"
   ]
  },
  {
   "cell_type": "code",
   "execution_count": null,
   "metadata": {},
   "outputs": [],
   "source": [
    "# Delete the experiment\n",
    "lumi_client_int.experiments.delete_experiment(experiment_id)\n",
    "#  shoudl throw exeption: lumi_client_int.experiments.get_experiment(experiment_id)\n",
    "try:\n",
    "    lumi_client_int.experiments.get_experiment(experiment_id)\n",
    "    raise Exception(\"Should have thrown an exception\")\n",
    "except requests.exceptions.HTTPError:\n",
    "    pass\n",
    "\n",
    "try:\n",
    "    lumi_client_int.workflows.get_workflow(workflow_1_details.id)\n",
    "    raise Exception(\"Should have thrown an exception\")\n",
    "except requests.exceptions.HTTPError:\n",
    "    pass"
   ]
  }
 ],
 "metadata": {
  "kernelspec": {
   "display_name": "lumigator",
   "language": "python",
   "name": "lumigator"
  },
  "language_info": {
   "codemirror_mode": {
    "name": "ipython",
    "version": 3
   },
   "file_extension": ".py",
   "mimetype": "text/x-python",
   "name": "python",
   "nbconvert_exporter": "python",
   "pygments_lexer": "ipython3",
   "version": "3.11.11"
  }
 },
 "nbformat": 4,
 "nbformat_minor": 2
}
