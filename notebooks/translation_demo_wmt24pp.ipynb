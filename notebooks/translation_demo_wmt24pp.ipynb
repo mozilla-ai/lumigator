{
 "cells": [
  {
   "cell_type": "markdown",
   "id": "4965a253-ff2e-4925-97bb-4e6a24481666",
   "metadata": {},
   "source": [
    "# Demo of Translation Use Case with Lumigator SDK"
   ]
  },
  {
   "cell_type": "markdown",
   "id": "e6beb87d",
   "metadata": {},
   "source": [
    "### Pre-requisites\n",
    "1. To use this notebook, you'll need to have Lumigator running. In a terminal, run:\n",
    "```\n",
    "git clone git@github.com:mozilla-ai/lumigator.git\n",
    "cd lumigator\n",
    "make start-lumigator-build\n",
    "```\n",
    "\n",
    "2. Follow the [README.md](https://github.com/mozilla-ai/lumigator/tree/main/notebooks#readme) to setup your Python environment. Then attach this notebook to the corresponding kernel."
   ]
  },
  {
   "cell_type": "markdown",
   "id": "3652ddd9",
   "metadata": {},
   "source": [
    "### Lumigator Client\n",
    "Check if client is up and running"
   ]
  },
  {
   "cell_type": "code",
   "execution_count": 1,
   "id": "67dc9899-abbe-4ae7-8352-fdfd77acbf5b",
   "metadata": {},
   "outputs": [],
   "source": [
    "from lumigator_sdk.lumigator import LumigatorClient"
   ]
  },
  {
   "cell_type": "code",
   "execution_count": 2,
   "id": "86bbf498-70e1-4e6f-9a3d-5c201fb7fea6",
   "metadata": {},
   "outputs": [
    {
     "name": "stdout",
     "output_type": "stream",
     "text": [
      "Connection is: OK\n"
     ]
    }
   ],
   "source": [
    "LUMI_HOST = \"localhost:8000\"\n",
    "client = LumigatorClient(api_host=LUMI_HOST)\n",
    "print(f\"Connection is: {client.health.healthcheck().status}\")"
   ]
  },
  {
   "cell_type": "markdown",
   "id": "fd504a65",
   "metadata": {},
   "source": [
    "### Dataset\n",
    "Using `google/wmt24pp` datasets from Huggingface Datasets, released as a part of [WMT24++: Expanding the Language Coverage of WMT24 to 55 Languages & Dialects](https://arxiv.org/abs/2502.12404v1)"
   ]
  },
  {
   "cell_type": "code",
   "execution_count": 3,
   "id": "2d48e754-41ed-4fb4-9650-af1b8538e16a",
   "metadata": {},
   "outputs": [],
   "source": [
    "import pandas as pd\n",
    "from datasets import load_dataset\n",
    "\n",
    "pd.set_option(\"display.max_colwidth\", None)"
   ]
  },
  {
   "cell_type": "code",
   "execution_count": 4,
   "id": "a26aa546-48d9-437c-a338-aaaea5e1584e",
   "metadata": {},
   "outputs": [],
   "source": [
    "source_language = \"English\"\n",
    "target_language = \"German\"\n",
    "language_pair = \"en-de_DE\"\n",
    "dataset = load_dataset(\"google/wmt24pp\", language_pair, split=\"train\")"
   ]
  },
  {
   "cell_type": "code",
   "execution_count": 5,
   "id": "412a53c6-ed38-4d6a-a26d-2e0e6c5b8987",
   "metadata": {},
   "outputs": [
    {
     "name": "stdout",
     "output_type": "stream",
     "text": [
      "Loaded 997 sentence pairs\n"
     ]
    },
    {
     "data": {
      "text/html": [
       "<div>\n",
       "<style scoped>\n",
       "    .dataframe tbody tr th:only-of-type {\n",
       "        vertical-align: middle;\n",
       "    }\n",
       "\n",
       "    .dataframe tbody tr th {\n",
       "        vertical-align: top;\n",
       "    }\n",
       "\n",
       "    .dataframe thead th {\n",
       "        text-align: right;\n",
       "    }\n",
       "</style>\n",
       "<table border=\"1\" class=\"dataframe\">\n",
       "  <thead>\n",
       "    <tr style=\"text-align: right;\">\n",
       "      <th></th>\n",
       "      <th>source</th>\n",
       "      <th>target</th>\n",
       "    </tr>\n",
       "  </thead>\n",
       "  <tbody>\n",
       "    <tr>\n",
       "      <th>0</th>\n",
       "      <td>Siso's depictions of land, water center new gallery exhibition</td>\n",
       "      <td>Sisos Darstellungen von Land und Wasser in neuer Ausstellung</td>\n",
       "    </tr>\n",
       "    <tr>\n",
       "      <th>1</th>\n",
       "      <td>\"People Swimming in the Swimming Pool\" from 2022 is one Vicente Siso artwork that will display at Tierra del Sol Gallery beginning Jan. 13. (photo courtesy of Vicente Siso)</td>\n",
       "      <td>„People Swimming in the Swimming Pool“ aus dem Jahr 2022 ist ein Kunstwerk von Vicente Siso, das ab dem 13. Januar in der Galerie „Tierra del Sol“ ausgestellt wird (Foto bereitgestellt von Vicente Siso)</td>\n",
       "    </tr>\n",
       "    <tr>\n",
       "      <th>2</th>\n",
       "      <td>Tierra del Sol is pleased to present \"Vicente Siso: Memories of the Land and Water\" at the new gallery location in West Hollywood. Siso has been an artist in the Studio Arts Program since 2012, this marks his debut solo exhibition. Siso was born 1962 in Madrid and raised between Venezuela, Trinidad and Miami; he moved with his family to Southern California in his early 20s.</td>\n",
       "      <td>„Vicente Siso: Memories of the Land and Water“ – das ist der Titel der Ausstellung im neuen Standort der Galerie „Tierra del Sol“ in West Hollywood. Siso ist seit 2012 als Künstler im Studio Arts Progam dabei und zeigt jetzt seine erste Solo-Ausstellung. Siso wurde 1962 in Madrid geboren und ist in Venezuela, Trinidad und Miami aufgewachsen. Anfang zwanzig zog er mit seiner Familie nach Südkalifornien.</td>\n",
       "    </tr>\n",
       "    <tr>\n",
       "      <th>3</th>\n",
       "      <td>Masterfully working across subject matter, Siso has generated a prolific series of landscapes, portraits, and still-life works rendered in either acrylic, pastel, pencil or watercolor. Drawing from family portraits, his own reference photographs, and recollection, his colorful compositions demonstrate his range of interests and skill across media. Siso's tropical landscapes and seascapes reflect the geographies of his past, employing rich patterns and incorporating people to make meaningful connections between culture, memory and the environment. Siso titles his artworks in a mix of Spanish and English, signifying the celebrated and integral complexities of his life in Los Angeles County. \"Vicente Siso: Memories of the Land and Water\" opens on Saturday, Jan. 13, with a reception from 6-8 p.m. The exhibition is on view through Sunday, March 3.</td>\n",
       "      <td>In zahlreichen Serien von Landschaften, Porträts und Stillleben in Acryl, Pastell, Bleistift oder Aquarell zeigt Siso sein meisterhaftes Können. Inspiriert von Familienporträts, seinen eigenen Referenzfotografien und durch Erinnerungen, beweisen seine farbenfreudigen Kompositionen die ganze Bandbreite seiner Interessen und seines Könnens in unterschiedlichen Medien. Seine tropischen Landschaften und Seestücke zeigen die Orte seiner Vergangenheit in detaillierten Mustern. Auch Personen werden einbezogen, um bedeutungsvolle Verbindungen zwischen Kultur, Erinnerung und Natur zu kreieren. Siso betitelt seine Kunstwerke mit einer Mischung aus Spanisch und Englisch – ein Zeichen für die gefeierten und so wichtigen Komplexitäten seines Lebens im Los Angeles County. „Vicente Siso: Memories of the Land and Water“ wird am Samstag, dem 13. Januar, mit einem Empfang von 18 bis 20 Uhr eröffnet. Die Ausstellung wird bis Sonntag, den 3. März, gezeigt.</td>\n",
       "    </tr>\n",
       "    <tr>\n",
       "      <th>4</th>\n",
       "      <td>The Tierra del Sol Gallery is located at 7414 Santa Monica Blvd. For information, visit tierradelsolgallery.org.</td>\n",
       "      <td>Galerie „Tierra del Sol“, 7414 Santa Monica Blvd. Weitere Informationen finden Sie unter tierradelsolgallery.org.</td>\n",
       "    </tr>\n",
       "  </tbody>\n",
       "</table>\n",
       "</div>"
      ],
      "text/plain": [
       "                                                                                                                                                                                                                                                                                                                                                                                                                                                                                                                                                                                                                                                                                                                                                                                                                                                                                   source  \\\n",
       "0                                                                                                                                                                                                                                                                                                                                                                                                                                                                                                                                                                                                                                                                                                                                                                                                                          Siso's depictions of land, water center new gallery exhibition   \n",
       "1                                                                                                                                                                                                                                                                                                                                                                                                                                                                                                                                                                                                                                                                                                            \"People Swimming in the Swimming Pool\" from 2022 is one Vicente Siso artwork that will display at Tierra del Sol Gallery beginning Jan. 13. (photo courtesy of Vicente Siso)   \n",
       "2                                                                                                                                                                                                                                                                                                                                                                                                                                                                                                Tierra del Sol is pleased to present \"Vicente Siso: Memories of the Land and Water\" at the new gallery location in West Hollywood. Siso has been an artist in the Studio Arts Program since 2012, this marks his debut solo exhibition. Siso was born 1962 in Madrid and raised between Venezuela, Trinidad and Miami; he moved with his family to Southern California in his early 20s.   \n",
       "3  Masterfully working across subject matter, Siso has generated a prolific series of landscapes, portraits, and still-life works rendered in either acrylic, pastel, pencil or watercolor. Drawing from family portraits, his own reference photographs, and recollection, his colorful compositions demonstrate his range of interests and skill across media. Siso's tropical landscapes and seascapes reflect the geographies of his past, employing rich patterns and incorporating people to make meaningful connections between culture, memory and the environment. Siso titles his artworks in a mix of Spanish and English, signifying the celebrated and integral complexities of his life in Los Angeles County. \"Vicente Siso: Memories of the Land and Water\" opens on Saturday, Jan. 13, with a reception from 6-8 p.m. The exhibition is on view through Sunday, March 3.   \n",
       "4                                                                                                                                                                                                                                                                                                                                                                                                                                                                                                                                                                                                                                                                                                                                                                        The Tierra del Sol Gallery is located at 7414 Santa Monica Blvd. For information, visit tierradelsolgallery.org.   \n",
       "\n",
       "                                                                                                                                                                                                                                                                                                                                                                                                                                                                                                                                                                                                                                                                                                                                                                                                                                                                                                                                                                                   target  \n",
       "0                                                                                                                                                                                                                                                                                                                                                                                                                                                                                                                                                                                                                                                                                                                                                                                                                                                                                                                            Sisos Darstellungen von Land und Wasser in neuer Ausstellung  \n",
       "1                                                                                                                                                                                                                                                                                                                                                                                                                                                                                                                                                                                                                                                                                                                                                                              „People Swimming in the Swimming Pool“ aus dem Jahr 2022 ist ein Kunstwerk von Vicente Siso, das ab dem 13. Januar in der Galerie „Tierra del Sol“ ausgestellt wird (Foto bereitgestellt von Vicente Siso)  \n",
       "2                                                                                                                                                                                                                                                                                                                                                                                                                                                                                                                                                                   „Vicente Siso: Memories of the Land and Water“ – das ist der Titel der Ausstellung im neuen Standort der Galerie „Tierra del Sol“ in West Hollywood. Siso ist seit 2012 als Künstler im Studio Arts Progam dabei und zeigt jetzt seine erste Solo-Ausstellung. Siso wurde 1962 in Madrid geboren und ist in Venezuela, Trinidad und Miami aufgewachsen. Anfang zwanzig zog er mit seiner Familie nach Südkalifornien.  \n",
       "3  In zahlreichen Serien von Landschaften, Porträts und Stillleben in Acryl, Pastell, Bleistift oder Aquarell zeigt Siso sein meisterhaftes Können. Inspiriert von Familienporträts, seinen eigenen Referenzfotografien und durch Erinnerungen, beweisen seine farbenfreudigen Kompositionen die ganze Bandbreite seiner Interessen und seines Könnens in unterschiedlichen Medien. Seine tropischen Landschaften und Seestücke zeigen die Orte seiner Vergangenheit in detaillierten Mustern. Auch Personen werden einbezogen, um bedeutungsvolle Verbindungen zwischen Kultur, Erinnerung und Natur zu kreieren. Siso betitelt seine Kunstwerke mit einer Mischung aus Spanisch und Englisch – ein Zeichen für die gefeierten und so wichtigen Komplexitäten seines Lebens im Los Angeles County. „Vicente Siso: Memories of the Land and Water“ wird am Samstag, dem 13. Januar, mit einem Empfang von 18 bis 20 Uhr eröffnet. Die Ausstellung wird bis Sonntag, den 3. März, gezeigt.  \n",
       "4                                                                                                                                                                                                                                                                                                                                                                                                                                                                                                                                                                                                                                                                                                                                                                                                                                                                       Galerie „Tierra del Sol“, 7414 Santa Monica Blvd. Weitere Informationen finden Sie unter tierradelsolgallery.org.  "
      ]
     },
     "execution_count": 5,
     "metadata": {},
     "output_type": "execute_result"
    }
   ],
   "source": [
    "df_translation = pd.DataFrame(dataset[1:])[[\"source\", \"target\"]]\n",
    "print(f\"Loaded {len(df_translation)} sentence pairs\")\n",
    "df_translation.head()"
   ]
  },
  {
   "cell_type": "code",
   "execution_count": 6,
   "id": "6f67ab2e-4be3-4430-9ceb-46e25db12fc1",
   "metadata": {},
   "outputs": [],
   "source": [
    "# Rename the columns to examples and ground_truth\n",
    "df_translation = df_translation.rename(columns={\"source\": \"examples\", \"target\": \"ground_truth\"})\n",
    "filename = \"translation_eval_dataset.csv\"\n",
    "df_translation = df_translation.head(10)\n",
    "df_translation.to_csv(filename, index=False)  # Save the file locally with 10 samples"
   ]
  },
  {
   "cell_type": "markdown",
   "id": "40f70acd",
   "metadata": {},
   "source": [
    "### Upload Dataset"
   ]
  },
  {
   "cell_type": "code",
   "execution_count": 7,
   "id": "e26ae289-3cca-4805-ab42-3518235c21c3",
   "metadata": {},
   "outputs": [
    {
     "name": "stdout",
     "output_type": "stream",
     "text": [
      "Dataset uploaded and has ID: 6c82b36a-64b2-42ff-9e7f-cf1e6768bc44\n"
     ]
    }
   ],
   "source": [
    "from pathlib import Path\n",
    "\n",
    "from lumigator_schemas.datasets import DatasetFormat\n",
    "\n",
    "# Upload that file that we created earlier\n",
    "with Path.open(Path(filename), \"r\") as file:\n",
    "    data = file.read()\n",
    "dataset_response = client.datasets.create_dataset(dataset=data, format=DatasetFormat.JOB)\n",
    "dataset_id = dataset_response.id\n",
    "print(f\"Dataset uploaded and has ID: {dataset_id}\")"
   ]
  },
  {
   "cell_type": "markdown",
   "id": "9db30aee",
   "metadata": {},
   "source": [
    "### Create Experiment"
   ]
  },
  {
   "cell_type": "code",
   "execution_count": 8,
   "id": "80bdca29-2436-48a8-bdb0-cbd19631bafe",
   "metadata": {},
   "outputs": [
    {
     "name": "stdout",
     "output_type": "stream",
     "text": [
      "Experiment created and has ID: 34\n"
     ]
    }
   ],
   "source": [
    "from lumigator_schemas.experiments import ExperimentCreate\n",
    "\n",
    "# Task as translation with necessary params\n",
    "task_definition = {\n",
    "    \"task\": \"translation\",\n",
    "    \"source_language\": source_language,\n",
    "    \"target_language\": target_language,\n",
    "}\n",
    "max_samples = 5\n",
    "\n",
    "request = ExperimentCreate(\n",
    "    name=f\"WMT24++ Demo Experiment {source_language} to {target_language}\",\n",
    "    description=\"Experiment for demo\",\n",
    "    dataset=dataset_id,\n",
    "    task_definition=task_definition,\n",
    "    max_samples=max_samples,\n",
    ")\n",
    "\n",
    "experiment_response = client.experiments.create_experiment(request)\n",
    "experiment_id = experiment_response.id\n",
    "print(f\"Experiment created and has ID: {experiment_id}\")"
   ]
  },
  {
   "cell_type": "markdown",
   "id": "f11fccdc",
   "metadata": {},
   "source": [
    "### Create and Run Workflows\n",
    "- One with API-based Open AI GPT-4o-mini\n",
    "- One with locally hosted Ollama model (Pre-requisite: Execute `ollama run qwen2.5` in a terminal window)\n",
    "- One with a multilingual model on HuggingFace\n",
    "- One with a bilingual Opus-MT model on HuggingFace"
   ]
  },
  {
   "cell_type": "code",
   "execution_count": 9,
   "id": "2286c5e1-71e5-45c5-8554-811dcdc65e95",
   "metadata": {},
   "outputs": [
    {
     "name": "stdout",
     "output_type": "stream",
     "text": [
      "Created workflow Translation with gpt-4o-mini with ID 6b7fb6995e93451b89d63a6af6b5c1f8 for model gpt-4o-mini\n",
      "Created workflow Translation with ollama qwen2.5 with ID b08d8b4b45e34742bfab155a6b5a0eb6 for model qwen2.5\n",
      "Created workflow Translation with HF m2m100 with ID d999309f328c4169b108fcb5c8cc6a5a for model facebook/m2m100_418M\n",
      "Created workflow Translation with Helsinki-NLP/opus-mt with ID 92ee08d58b9e4a4eb69ae56727101a0d for model Helsinki-NLP/opus-mt-en-de\n"
     ]
    }
   ],
   "source": [
    "from lumigator_schemas.workflows import WorkflowCreateRequest\n",
    "\n",
    "custom_system_prompt = f\"\"\"\n",
    "You are an expert in {source_language} and {target_language}. \n",
    "Please provide a high-quality translation of the following text from {source_language} to {target_language}.\n",
    "Only generate the translated text. No additional text or explanation needed.\n",
    "\"\"\"\n",
    "batch_size = 1\n",
    "metrics = [\"bleu\", \"meteor\", \"comet\"]\n",
    "configurations = [\n",
    "    # OpenAI GPt-4o-mini no explicit system prompt - uses default prompt set by Lumigator under the hood\n",
    "    {\n",
    "        \"name\": \"Translation with gpt-4o-mini\",\n",
    "        \"model\": \"gpt-4o-mini\",\n",
    "        \"provider\": \"openai\",\n",
    "        \"secret_key_name\": \"openai_api_key\",\n",
    "    },\n",
    "    # Locally hosted Ollama model with custom system prompt\n",
    "    {\n",
    "        \"name\": \"Translation with ollama qwen2.5\",\n",
    "        \"model\": \"qwen2.5\",\n",
    "        \"provider\": \"openai\",\n",
    "        \"base_url\": \"http://localhost:11434/v1\",\n",
    "        \"system_prompt\": custom_system_prompt,\n",
    "        \"secret_key_name\": \"openai_api_key\",\n",
    "    },\n",
    "    # HuggingFace multi-lingual model\n",
    "    {\n",
    "        \"name\": \"Translation with HF m2m100\",\n",
    "        \"model\": \"facebook/m2m100_418M\",\n",
    "        \"provider\": \"hf\",\n",
    "    },\n",
    "    # HuggingFace Opus-MT bi-lingual model\n",
    "    {\n",
    "        \"name\": \"Translation with Helsinki-NLP/opus-mt\",\n",
    "        \"model\": \"Helsinki-NLP/opus-mt-en-de\",\n",
    "        \"provider\": \"hf\",\n",
    "    },\n",
    "]\n",
    "\n",
    "workflow_ids = []\n",
    "for config in configurations:\n",
    "    params = {\n",
    "        \"name\": config[\"name\"],\n",
    "        \"model\": config[\"model\"],\n",
    "        \"experiment_id\": experiment_id,\n",
    "        \"batch_size\": batch_size,\n",
    "        \"metrics\": metrics,\n",
    "    }\n",
    "    params.update(config)\n",
    "    request = WorkflowCreateRequest(**params)\n",
    "    created_workflow = client.workflows.create_workflow(request)\n",
    "    print(f\"Created workflow {created_workflow.name} with ID {created_workflow.id} for model {created_workflow.model}\")\n",
    "    workflow_ids.append(created_workflow.id)"
   ]
  },
  {
   "cell_type": "markdown",
   "id": "e9a51f48-f84e-49e2-8f2e-892cbdbb2368",
   "metadata": {},
   "source": [
    "### View Results\n",
    "Check http://localhost/experiments for status. \n",
    "\n",
    "__Once the experiment status is `SUCCEEDED`, proceed further.__"
   ]
  },
  {
   "cell_type": "code",
   "execution_count": 11,
   "id": "614e0298-5d23-4a7d-97e9-e97b0db915c3",
   "metadata": {},
   "outputs": [
    {
     "name": "stdout",
     "output_type": "stream",
     "text": [
      "Workflows still running ...\n",
      "Workflows still running ...\n",
      "Workflows still running ...\n",
      "Workflows still running ...\n",
      "Workflows still running ...\n",
      "Workflows still running ...\n",
      "Workflows still running ...\n",
      "Workflows still running ...\n",
      "Workflows still running ...\n",
      "Workflows still running ...\n",
      "Workflows still running ...\n"
     ]
    },
    {
     "data": {
      "text/html": [
       "<div>\n",
       "<style scoped>\n",
       "    .dataframe tbody tr th:only-of-type {\n",
       "        vertical-align: middle;\n",
       "    }\n",
       "\n",
       "    .dataframe tbody tr th {\n",
       "        vertical-align: top;\n",
       "    }\n",
       "\n",
       "    .dataframe thead th {\n",
       "        text-align: right;\n",
       "    }\n",
       "</style>\n",
       "<table border=\"1\" class=\"dataframe\">\n",
       "  <thead>\n",
       "    <tr style=\"text-align: right;\">\n",
       "      <th></th>\n",
       "      <th>meteor_meteor_mean</th>\n",
       "      <th>bleu_bleu_mean</th>\n",
       "      <th>comet_mean_score</th>\n",
       "    </tr>\n",
       "  </thead>\n",
       "  <tbody>\n",
       "    <tr>\n",
       "      <th>gpt-4o-mini</th>\n",
       "      <td>0.644</td>\n",
       "      <td>0.370</td>\n",
       "      <td>0.647</td>\n",
       "    </tr>\n",
       "    <tr>\n",
       "      <th>qwen2.5</th>\n",
       "      <td>0.567</td>\n",
       "      <td>0.309</td>\n",
       "      <td>0.607</td>\n",
       "    </tr>\n",
       "    <tr>\n",
       "      <th>facebook/m2m100_418M</th>\n",
       "      <td>0.532</td>\n",
       "      <td>0.259</td>\n",
       "      <td>0.455</td>\n",
       "    </tr>\n",
       "    <tr>\n",
       "      <th>Helsinki-NLP/opus-mt-en-de</th>\n",
       "      <td>0.602</td>\n",
       "      <td>0.223</td>\n",
       "      <td>0.585</td>\n",
       "    </tr>\n",
       "  </tbody>\n",
       "</table>\n",
       "</div>"
      ],
      "text/plain": [
       "                            meteor_meteor_mean  bleu_bleu_mean  \\\n",
       "gpt-4o-mini                              0.644           0.370   \n",
       "qwen2.5                                  0.567           0.309   \n",
       "facebook/m2m100_418M                     0.532           0.259   \n",
       "Helsinki-NLP/opus-mt-en-de               0.602           0.223   \n",
       "\n",
       "                            comet_mean_score  \n",
       "gpt-4o-mini                            0.647  \n",
       "qwen2.5                                0.607  \n",
       "facebook/m2m100_418M                   0.455  \n",
       "Helsinki-NLP/opus-mt-en-de             0.585  "
      ]
     },
     "execution_count": 11,
     "metadata": {},
     "output_type": "execute_result"
    }
   ],
   "source": [
    "from time import sleep\n",
    "\n",
    "from lumigator_schemas.workflows import WorkflowStatus\n",
    "\n",
    "still_running = True\n",
    "while still_running:\n",
    "    experiment_details = client.experiments.get_experiment(experiment_id)\n",
    "    still_running_workflows = [\n",
    "        workflow.name\n",
    "        for workflow in experiment_details.workflows\n",
    "        if workflow.status not in [WorkflowStatus.SUCCEEDED, WorkflowStatus.FAILED]\n",
    "    ]\n",
    "    still_running = bool(still_running_workflows)\n",
    "    if still_running:\n",
    "        print(\"Workflows still running ...\")\n",
    "        sleep(60)\n",
    "\n",
    "workflow_results = [client.workflows.get_workflow(workflow_id) for workflow_id in workflow_ids]\n",
    "df_metrics = pd.concat([pd.DataFrame.from_dict({wr.model: wr.metrics}).T for wr in workflow_results])\n",
    "df_metrics[[\"meteor_meteor_mean\", \"bleu_bleu_mean\", \"comet_mean_score\"]]"
   ]
  },
  {
   "cell_type": "code",
   "execution_count": 13,
   "id": "e5761bc8-87f1-467a-9d4a-2c7fa68b5af0",
   "metadata": {},
   "outputs": [
    {
     "name": "stdout",
     "output_type": "stream",
     "text": [
      "Model: gpt-4o-mini\n"
     ]
    },
    {
     "data": {
      "text/html": [
       "<div>\n",
       "<style scoped>\n",
       "    .dataframe tbody tr th:only-of-type {\n",
       "        vertical-align: middle;\n",
       "    }\n",
       "\n",
       "    .dataframe tbody tr th {\n",
       "        vertical-align: top;\n",
       "    }\n",
       "\n",
       "    .dataframe thead th {\n",
       "        text-align: right;\n",
       "    }\n",
       "</style>\n",
       "<table border=\"1\" class=\"dataframe\">\n",
       "  <thead>\n",
       "    <tr style=\"text-align: right;\">\n",
       "      <th></th>\n",
       "      <th>examples</th>\n",
       "      <th>ground_truth</th>\n",
       "      <th>predictions</th>\n",
       "    </tr>\n",
       "  </thead>\n",
       "  <tbody>\n",
       "    <tr>\n",
       "      <th>0</th>\n",
       "      <td>Siso's depictions of land, water center new gallery exhibition</td>\n",
       "      <td>Sisos Darstellungen von Land und Wasser in neuer Ausstellung</td>\n",
       "      <td>Sisos Darstellungen von Land und Wasser stehen im Mittelpunkt der neuen Galerieausstellung.</td>\n",
       "    </tr>\n",
       "    <tr>\n",
       "      <th>1</th>\n",
       "      <td>\"People Swimming in the Swimming Pool\" from 2022 is one Vicente Siso artwork that will display at Tierra del Sol Gallery beginning Jan. 13. (photo courtesy of Vicente Siso)</td>\n",
       "      <td>„People Swimming in the Swimming Pool“ aus dem Jahr 2022 ist ein Kunstwerk von Vicente Siso, das ab dem 13. Januar in der Galerie „Tierra del Sol“ ausgestellt wird (Foto bereitgestellt von Vicente Siso)</td>\n",
       "      <td>\"Menschen, die im Schwimmbad schwimmen\" aus dem Jahr 2022 ist ein Kunstwerk von Vicente Siso, das ab dem 13. Januar in der Tierra del Sol Gallery ausgestellt wird. (Foto mit freundlicher Genehmigung von Vicente Siso)</td>\n",
       "    </tr>\n",
       "  </tbody>\n",
       "</table>\n",
       "</div>"
      ],
      "text/plain": [
       "                                                                                                                                                                       examples  \\\n",
       "0                                                                                                                Siso's depictions of land, water center new gallery exhibition   \n",
       "1  \"People Swimming in the Swimming Pool\" from 2022 is one Vicente Siso artwork that will display at Tierra del Sol Gallery beginning Jan. 13. (photo courtesy of Vicente Siso)   \n",
       "\n",
       "                                                                                                                                                                                                 ground_truth  \\\n",
       "0                                                                                                                                                Sisos Darstellungen von Land und Wasser in neuer Ausstellung   \n",
       "1  „People Swimming in the Swimming Pool“ aus dem Jahr 2022 ist ein Kunstwerk von Vicente Siso, das ab dem 13. Januar in der Galerie „Tierra del Sol“ ausgestellt wird (Foto bereitgestellt von Vicente Siso)   \n",
       "\n",
       "                                                                                                                                                                                                                predictions  \n",
       "0                                                                                                                               Sisos Darstellungen von Land und Wasser stehen im Mittelpunkt der neuen Galerieausstellung.  \n",
       "1  \"Menschen, die im Schwimmbad schwimmen\" aus dem Jahr 2022 ist ein Kunstwerk von Vicente Siso, das ab dem 13. Januar in der Tierra del Sol Gallery ausgestellt wird. (Foto mit freundlicher Genehmigung von Vicente Siso)  "
      ]
     },
     "metadata": {},
     "output_type": "display_data"
    },
    {
     "name": "stdout",
     "output_type": "stream",
     "text": [
      "Model: qwen2.5\n"
     ]
    },
    {
     "data": {
      "text/html": [
       "<div>\n",
       "<style scoped>\n",
       "    .dataframe tbody tr th:only-of-type {\n",
       "        vertical-align: middle;\n",
       "    }\n",
       "\n",
       "    .dataframe tbody tr th {\n",
       "        vertical-align: top;\n",
       "    }\n",
       "\n",
       "    .dataframe thead th {\n",
       "        text-align: right;\n",
       "    }\n",
       "</style>\n",
       "<table border=\"1\" class=\"dataframe\">\n",
       "  <thead>\n",
       "    <tr style=\"text-align: right;\">\n",
       "      <th></th>\n",
       "      <th>examples</th>\n",
       "      <th>ground_truth</th>\n",
       "      <th>predictions</th>\n",
       "    </tr>\n",
       "  </thead>\n",
       "  <tbody>\n",
       "    <tr>\n",
       "      <th>0</th>\n",
       "      <td>Siso's depictions of land, water center new gallery exhibition</td>\n",
       "      <td>Sisos Darstellungen von Land und Wasser in neuer Ausstellung</td>\n",
       "      <td>Sisos Darstellungen von Land und Wasser bilden den Mittelpunkt der neuen Galerieausstellung</td>\n",
       "    </tr>\n",
       "    <tr>\n",
       "      <th>1</th>\n",
       "      <td>\"People Swimming in the Swimming Pool\" from 2022 is one Vicente Siso artwork that will display at Tierra del Sol Gallery beginning Jan. 13. (photo courtesy of Vicente Siso)</td>\n",
       "      <td>„People Swimming in the Swimming Pool“ aus dem Jahr 2022 ist ein Kunstwerk von Vicente Siso, das ab dem 13. Januar in der Galerie „Tierra del Sol“ ausgestellt wird (Foto bereitgestellt von Vicente Siso)</td>\n",
       "      <td>\"Leute, die im Schwimmbad schwimmen,\" von 2022 ist ein Werk des Künstlers Vicente Siso, das ab dem 13. Januar im Tierra del Sol Gallery ausgestellt sein wird. (Foto courtoisie von Vicente Siso)</td>\n",
       "    </tr>\n",
       "  </tbody>\n",
       "</table>\n",
       "</div>"
      ],
      "text/plain": [
       "                                                                                                                                                                       examples  \\\n",
       "0                                                                                                                Siso's depictions of land, water center new gallery exhibition   \n",
       "1  \"People Swimming in the Swimming Pool\" from 2022 is one Vicente Siso artwork that will display at Tierra del Sol Gallery beginning Jan. 13. (photo courtesy of Vicente Siso)   \n",
       "\n",
       "                                                                                                                                                                                                 ground_truth  \\\n",
       "0                                                                                                                                                Sisos Darstellungen von Land und Wasser in neuer Ausstellung   \n",
       "1  „People Swimming in the Swimming Pool“ aus dem Jahr 2022 ist ein Kunstwerk von Vicente Siso, das ab dem 13. Januar in der Galerie „Tierra del Sol“ ausgestellt wird (Foto bereitgestellt von Vicente Siso)   \n",
       "\n",
       "                                                                                                                                                                                         predictions  \n",
       "0                                                                                                        Sisos Darstellungen von Land und Wasser bilden den Mittelpunkt der neuen Galerieausstellung  \n",
       "1  \"Leute, die im Schwimmbad schwimmen,\" von 2022 ist ein Werk des Künstlers Vicente Siso, das ab dem 13. Januar im Tierra del Sol Gallery ausgestellt sein wird. (Foto courtoisie von Vicente Siso)  "
      ]
     },
     "metadata": {},
     "output_type": "display_data"
    },
    {
     "name": "stdout",
     "output_type": "stream",
     "text": [
      "Model: facebook/m2m100_418M\n"
     ]
    },
    {
     "data": {
      "text/html": [
       "<div>\n",
       "<style scoped>\n",
       "    .dataframe tbody tr th:only-of-type {\n",
       "        vertical-align: middle;\n",
       "    }\n",
       "\n",
       "    .dataframe tbody tr th {\n",
       "        vertical-align: top;\n",
       "    }\n",
       "\n",
       "    .dataframe thead th {\n",
       "        text-align: right;\n",
       "    }\n",
       "</style>\n",
       "<table border=\"1\" class=\"dataframe\">\n",
       "  <thead>\n",
       "    <tr style=\"text-align: right;\">\n",
       "      <th></th>\n",
       "      <th>examples</th>\n",
       "      <th>ground_truth</th>\n",
       "      <th>predictions</th>\n",
       "    </tr>\n",
       "  </thead>\n",
       "  <tbody>\n",
       "    <tr>\n",
       "      <th>0</th>\n",
       "      <td>Siso's depictions of land, water center new gallery exhibition</td>\n",
       "      <td>Sisos Darstellungen von Land und Wasser in neuer Ausstellung</td>\n",
       "      <td>Siso's Abbildungen von Land, Wasserzentrum neue Galerie Ausstellung</td>\n",
       "    </tr>\n",
       "    <tr>\n",
       "      <th>1</th>\n",
       "      <td>\"People Swimming in the Swimming Pool\" from 2022 is one Vicente Siso artwork that will display at Tierra del Sol Gallery beginning Jan. 13. (photo courtesy of Vicente Siso)</td>\n",
       "      <td>„People Swimming in the Swimming Pool“ aus dem Jahr 2022 ist ein Kunstwerk von Vicente Siso, das ab dem 13. Januar in der Galerie „Tierra del Sol“ ausgestellt wird (Foto bereitgestellt von Vicente Siso)</td>\n",
       "      <td>\"People Swimming in the Swimming Pool\" von 2022 ist ein Kunstwerk von Vicente Siso, das am 13. Januar in der Tierra del Sol Gallery ausgestellt wird (Foto von Vicente Siso)</td>\n",
       "    </tr>\n",
       "  </tbody>\n",
       "</table>\n",
       "</div>"
      ],
      "text/plain": [
       "                                                                                                                                                                       examples  \\\n",
       "0                                                                                                                Siso's depictions of land, water center new gallery exhibition   \n",
       "1  \"People Swimming in the Swimming Pool\" from 2022 is one Vicente Siso artwork that will display at Tierra del Sol Gallery beginning Jan. 13. (photo courtesy of Vicente Siso)   \n",
       "\n",
       "                                                                                                                                                                                                 ground_truth  \\\n",
       "0                                                                                                                                                Sisos Darstellungen von Land und Wasser in neuer Ausstellung   \n",
       "1  „People Swimming in the Swimming Pool“ aus dem Jahr 2022 ist ein Kunstwerk von Vicente Siso, das ab dem 13. Januar in der Galerie „Tierra del Sol“ ausgestellt wird (Foto bereitgestellt von Vicente Siso)   \n",
       "\n",
       "                                                                                                                                                                    predictions  \n",
       "0                                                                                                           Siso's Abbildungen von Land, Wasserzentrum neue Galerie Ausstellung  \n",
       "1  \"People Swimming in the Swimming Pool\" von 2022 ist ein Kunstwerk von Vicente Siso, das am 13. Januar in der Tierra del Sol Gallery ausgestellt wird (Foto von Vicente Siso)  "
      ]
     },
     "metadata": {},
     "output_type": "display_data"
    },
    {
     "name": "stdout",
     "output_type": "stream",
     "text": [
      "Model: Helsinki-NLP/opus-mt-en-de\n"
     ]
    },
    {
     "data": {
      "text/html": [
       "<div>\n",
       "<style scoped>\n",
       "    .dataframe tbody tr th:only-of-type {\n",
       "        vertical-align: middle;\n",
       "    }\n",
       "\n",
       "    .dataframe tbody tr th {\n",
       "        vertical-align: top;\n",
       "    }\n",
       "\n",
       "    .dataframe thead th {\n",
       "        text-align: right;\n",
       "    }\n",
       "</style>\n",
       "<table border=\"1\" class=\"dataframe\">\n",
       "  <thead>\n",
       "    <tr style=\"text-align: right;\">\n",
       "      <th></th>\n",
       "      <th>examples</th>\n",
       "      <th>ground_truth</th>\n",
       "      <th>predictions</th>\n",
       "    </tr>\n",
       "  </thead>\n",
       "  <tbody>\n",
       "    <tr>\n",
       "      <th>0</th>\n",
       "      <td>Siso's depictions of land, water center new gallery exhibition</td>\n",
       "      <td>Sisos Darstellungen von Land und Wasser in neuer Ausstellung</td>\n",
       "      <td>Siso's Darstellungen von Land, Wasserzentrum neue Galerie Ausstellung</td>\n",
       "    </tr>\n",
       "    <tr>\n",
       "      <th>1</th>\n",
       "      <td>\"People Swimming in the Swimming Pool\" from 2022 is one Vicente Siso artwork that will display at Tierra del Sol Gallery beginning Jan. 13. (photo courtesy of Vicente Siso)</td>\n",
       "      <td>„People Swimming in the Swimming Pool“ aus dem Jahr 2022 ist ein Kunstwerk von Vicente Siso, das ab dem 13. Januar in der Galerie „Tierra del Sol“ ausgestellt wird (Foto bereitgestellt von Vicente Siso)</td>\n",
       "      <td>\"People Swimming in the Swimming Pool\" von 2022 ist ein Vicente Siso Kunstwerk, das in der Tierra del Sol Gallery ab dem 13. Januar ausgestellt wird. (Foto mit freundlicher Genehmigung von Vicente Siso)</td>\n",
       "    </tr>\n",
       "  </tbody>\n",
       "</table>\n",
       "</div>"
      ],
      "text/plain": [
       "                                                                                                                                                                       examples  \\\n",
       "0                                                                                                                Siso's depictions of land, water center new gallery exhibition   \n",
       "1  \"People Swimming in the Swimming Pool\" from 2022 is one Vicente Siso artwork that will display at Tierra del Sol Gallery beginning Jan. 13. (photo courtesy of Vicente Siso)   \n",
       "\n",
       "                                                                                                                                                                                                 ground_truth  \\\n",
       "0                                                                                                                                                Sisos Darstellungen von Land und Wasser in neuer Ausstellung   \n",
       "1  „People Swimming in the Swimming Pool“ aus dem Jahr 2022 ist ein Kunstwerk von Vicente Siso, das ab dem 13. Januar in der Galerie „Tierra del Sol“ ausgestellt wird (Foto bereitgestellt von Vicente Siso)   \n",
       "\n",
       "                                                                                                                                                                                                  predictions  \n",
       "0                                                                                                                                       Siso's Darstellungen von Land, Wasserzentrum neue Galerie Ausstellung  \n",
       "1  \"People Swimming in the Swimming Pool\" von 2022 ist ein Vicente Siso Kunstwerk, das in der Tierra del Sol Gallery ab dem 13. Januar ausgestellt wird. (Foto mit freundlicher Genehmigung von Vicente Siso)  "
      ]
     },
     "metadata": {},
     "output_type": "display_data"
    }
   ],
   "source": [
    "output_texts_per_model = {\n",
    "    wr.model: pd.read_json(wr.artifacts_download_url)[\"artifacts\"][\n",
    "        [\"examples\", \"ground_truth\", \"predictions\"]\n",
    "    ].to_dict()\n",
    "    for wr in workflow_results\n",
    "}\n",
    "for model_name, df_texts in output_texts_per_model.items():\n",
    "    print(f\"Model: {model_name}\")\n",
    "    display(pd.DataFrame(df_texts).head(2))"
   ]
  },
  {
   "cell_type": "code",
   "execution_count": null,
   "id": "41e06bc9-841b-4413-b33e-f1a293189bbf",
   "metadata": {},
   "outputs": [],
   "source": []
  },
  {
   "cell_type": "markdown",
   "id": "30648699",
   "metadata": {},
   "source": [
    "### Models Endpoint\n",
    "- List models supported for task(s)"
   ]
  },
  {
   "cell_type": "code",
   "execution_count": 14,
   "id": "3e0d0847-2a33-4dfb-bdc8-af7b1940a64c",
   "metadata": {},
   "outputs": [
    {
     "name": "stdout",
     "output_type": "stream",
     "text": [
      "facebook/m2m100_418M\n",
      "facebook/m2m100_1.2B\n",
      "Helsinki-NLP/opus-mt\n",
      "bigscience/mt0-base\n",
      "bigscience/mt0-large\n",
      "bigscience/mt0-xl\n",
      "gpt-4o-mini\n",
      "gpt-4o\n",
      "deepseek-reasoner\n",
      "deepseek-chat\n",
      "ministral-8b-latest\n",
      "mistralai/Mistral-7B-Instruct-v0.2\n"
     ]
    }
   ],
   "source": [
    "### Get the list of models supported for translation\n",
    "models_response = client.models.get_suggested_models(tasks=[\"translation\"])\n",
    "for model_config in models_response.items:\n",
    "    print(model_config.model)"
   ]
  },
  {
   "cell_type": "code",
   "execution_count": null,
   "id": "c158861b-9e47-4c85-b385-e2db63807832",
   "metadata": {},
   "outputs": [],
   "source": []
  },
  {
   "cell_type": "code",
   "execution_count": null,
   "id": "46287a01-735c-4b32-b083-a219d7e53473",
   "metadata": {},
   "outputs": [],
   "source": []
  }
 ],
 "metadata": {
  "kernelspec": {
   "display_name": "lumigator-notebook",
   "language": "python",
   "name": "lumigator-notebook"
  },
  "language_info": {
   "codemirror_mode": {
    "name": "ipython",
    "version": 3
   },
   "file_extension": ".py",
   "mimetype": "text/x-python",
   "name": "python",
   "nbconvert_exporter": "python",
   "pygments_lexer": "ipython3",
   "version": "3.11.11"
  }
 },
 "nbformat": 4,
 "nbformat_minor": 5
}
