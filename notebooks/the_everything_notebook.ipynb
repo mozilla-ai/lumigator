{
 "cells": [
  {
   "cell_type": "code",
   "execution_count": null,
   "id": "eb4d510e-6ce7-4015-834c-27d9438a4c8a",
   "metadata": {},
   "outputs": [],
   "source": [
    "%pip install s3fs==2024.5.0 datasets==2.20.0"
   ]
  },
  {
   "cell_type": "code",
   "execution_count": 1,
   "id": "64951027-1be6-43cd-832b-4c4df80953e4",
   "metadata": {},
   "outputs": [],
   "source": [
    "import lumigator_demo as ld\n",
    "from datasets import load_dataset"
   ]
  },
  {
   "cell_type": "code",
   "execution_count": 2,
   "id": "bb43dec0-d0da-48f6-b5d2-167fc01f62e5",
   "metadata": {},
   "outputs": [],
   "source": [
    "# allow groups to provide a team name so we can track their jobs more easily\n",
    "team_name = \"testing_lumigator\""
   ]
  },
  {
   "cell_type": "markdown",
   "id": "8880cb2d-fb4a-44bc-bc26-c8bb4ae27a2e",
   "metadata": {},
   "source": [
    "# Running the Experiment"
   ]
  },
  {
   "cell_type": "markdown",
   "id": "55466ecc-9741-426e-a532-401fb5cfa915",
   "metadata": {},
   "source": [
    "## Dataset Preprocessing"
   ]
  },
  {
   "cell_type": "markdown",
   "id": "2412e109-4d49-4857-8828-b5d7e24efc06",
   "metadata": {},
   "source": [
    "### Loading data\n",
    "The following dataset is already in the format that we need as input: \n",
    "- one field called `examples` containing the text to summarize\n",
    "- one field called `ground_truth` containing the summaries to the models' outputs against\n",
    "\n",
    "Despite being a CSV file, we still specify `split=\"train\"` as this is the default split name for non-split datasets.\n",
    "\n",
    "Note that you can load many different types of file formats in a similar way (see https://huggingface.co/docs/datasets/loading#local-and-remote-files)"
   ]
  },
  {
   "cell_type": "code",
   "execution_count": 3,
   "id": "7263de8c-115a-4775-860c-13adbfb06eea",
   "metadata": {},
   "outputs": [
    {
     "data": {
      "text/html": [
       "<div>\n",
       "<style scoped>\n",
       "    .dataframe tbody tr th:only-of-type {\n",
       "        vertical-align: middle;\n",
       "    }\n",
       "\n",
       "    .dataframe tbody tr th {\n",
       "        vertical-align: top;\n",
       "    }\n",
       "\n",
       "    .dataframe thead th {\n",
       "        text-align: right;\n",
       "    }\n",
       "</style>\n",
       "<table border=\"1\" class=\"dataframe\">\n",
       "  <thead>\n",
       "    <tr style=\"text-align: right;\">\n",
       "      <th></th>\n",
       "      <th>examples</th>\n",
       "      <th>ground_truth</th>\n",
       "    </tr>\n",
       "  </thead>\n",
       "  <tbody>\n",
       "    <tr>\n",
       "      <th>0</th>\n",
       "      <td>#Person1#: Hello, how are you doing today?\\n#P...</td>\n",
       "      <td>#Person2# has trouble breathing. The doctor as...</td>\n",
       "    </tr>\n",
       "    <tr>\n",
       "      <th>1</th>\n",
       "      <td>#Person1#: Hey Jimmy. Let's go workout later t...</td>\n",
       "      <td>#Person1# invites Jimmy to go workout and pers...</td>\n",
       "    </tr>\n",
       "    <tr>\n",
       "      <th>2</th>\n",
       "      <td>#Person1#: I need to stop eating such unhealth...</td>\n",
       "      <td>#Person1# plans to stop eating unhealthy foods...</td>\n",
       "    </tr>\n",
       "    <tr>\n",
       "      <th>3</th>\n",
       "      <td>#Person1#: Do you believe in UFOs?\\n#Person2#:...</td>\n",
       "      <td>#Person2# believes in UFOs and can see them in...</td>\n",
       "    </tr>\n",
       "    <tr>\n",
       "      <th>4</th>\n",
       "      <td>#Person1#: Did you go to school today?\\n#Perso...</td>\n",
       "      <td>#Person1# didn't go to school today. #Person2#...</td>\n",
       "    </tr>\n",
       "    <tr>\n",
       "      <th>...</th>\n",
       "      <td>...</td>\n",
       "      <td>...</td>\n",
       "    </tr>\n",
       "    <tr>\n",
       "      <th>495</th>\n",
       "      <td>#Person1#: Now that it's the new year, I've de...</td>\n",
       "      <td>#Person1# decides to stop smoking and come out...</td>\n",
       "    </tr>\n",
       "    <tr>\n",
       "      <th>496</th>\n",
       "      <td>#Person1#: You married Joe, didn't you? \\n#Per...</td>\n",
       "      <td>#Person1# thought #Person2# married Joe. #Pers...</td>\n",
       "    </tr>\n",
       "    <tr>\n",
       "      <th>497</th>\n",
       "      <td>#Person1#: How can I help you mam?\\n#Person2#:...</td>\n",
       "      <td>#Person2#'s car makes noises. #Person1# thinks...</td>\n",
       "    </tr>\n",
       "    <tr>\n",
       "      <th>498</th>\n",
       "      <td>#Person1#: Hello, Amazon's customer service. H...</td>\n",
       "      <td>#Person2# calls Amazon's customer service beca...</td>\n",
       "    </tr>\n",
       "    <tr>\n",
       "      <th>499</th>\n",
       "      <td>#Person1#: I can't believe it's almost summer....</td>\n",
       "      <td>#Person2# tells #Person1# #Person2# is going t...</td>\n",
       "    </tr>\n",
       "  </tbody>\n",
       "</table>\n",
       "<p>500 rows × 2 columns</p>\n",
       "</div>"
      ],
      "text/plain": [
       "                                              examples  \\\n",
       "0    #Person1#: Hello, how are you doing today?\\n#P...   \n",
       "1    #Person1#: Hey Jimmy. Let's go workout later t...   \n",
       "2    #Person1#: I need to stop eating such unhealth...   \n",
       "3    #Person1#: Do you believe in UFOs?\\n#Person2#:...   \n",
       "4    #Person1#: Did you go to school today?\\n#Perso...   \n",
       "..                                                 ...   \n",
       "495  #Person1#: Now that it's the new year, I've de...   \n",
       "496  #Person1#: You married Joe, didn't you? \\n#Per...   \n",
       "497  #Person1#: How can I help you mam?\\n#Person2#:...   \n",
       "498  #Person1#: Hello, Amazon's customer service. H...   \n",
       "499  #Person1#: I can't believe it's almost summer....   \n",
       "\n",
       "                                          ground_truth  \n",
       "0    #Person2# has trouble breathing. The doctor as...  \n",
       "1    #Person1# invites Jimmy to go workout and pers...  \n",
       "2    #Person1# plans to stop eating unhealthy foods...  \n",
       "3    #Person2# believes in UFOs and can see them in...  \n",
       "4    #Person1# didn't go to school today. #Person2#...  \n",
       "..                                                 ...  \n",
       "495  #Person1# decides to stop smoking and come out...  \n",
       "496  #Person1# thought #Person2# married Joe. #Pers...  \n",
       "497  #Person2#'s car makes noises. #Person1# thinks...  \n",
       "498  #Person2# calls Amazon's customer service beca...  \n",
       "499  #Person2# tells #Person1# #Person2# is going t...  \n",
       "\n",
       "[500 rows x 2 columns]"
      ]
     },
     "execution_count": 3,
     "metadata": {},
     "output_type": "execute_result"
    }
   ],
   "source": [
    "ds = load_dataset(\"csv\", data_files = \"dialogsum.csv\", split=\"train\")\n",
    "ds.to_pandas()"
   ]
  },
  {
   "cell_type": "markdown",
   "id": "df7c09af-98e4-40d6-9ad7-075fa8ab7306",
   "metadata": {},
   "source": [
    "### Converting data\n",
    "\n",
    "The following dataset *does not* contain fields in the expected format. The code below shows how you can convert them to make the dataset compatible.\n",
    "\n",
    "In this specific case we load the `validation` split as it contains fewer samples (500 instead of 12.5K)."
   ]
  },
  {
   "cell_type": "code",
   "execution_count": 4,
   "id": "896492ad-5e4a-4bef-bd4a-e7c3a09e733d",
   "metadata": {},
   "outputs": [
    {
     "data": {
      "text/html": [
       "<div>\n",
       "<style scoped>\n",
       "    .dataframe tbody tr th:only-of-type {\n",
       "        vertical-align: middle;\n",
       "    }\n",
       "\n",
       "    .dataframe tbody tr th {\n",
       "        vertical-align: top;\n",
       "    }\n",
       "\n",
       "    .dataframe thead th {\n",
       "        text-align: right;\n",
       "    }\n",
       "</style>\n",
       "<table border=\"1\" class=\"dataframe\">\n",
       "  <thead>\n",
       "    <tr style=\"text-align: right;\">\n",
       "      <th></th>\n",
       "      <th>id</th>\n",
       "      <th>dialogue</th>\n",
       "      <th>summary</th>\n",
       "      <th>topic</th>\n",
       "    </tr>\n",
       "  </thead>\n",
       "  <tbody>\n",
       "    <tr>\n",
       "      <th>0</th>\n",
       "      <td>dev_0</td>\n",
       "      <td>#Person1#: Hello, how are you doing today?\\n#P...</td>\n",
       "      <td>#Person2# has trouble breathing. The doctor as...</td>\n",
       "      <td>see a doctor</td>\n",
       "    </tr>\n",
       "    <tr>\n",
       "      <th>1</th>\n",
       "      <td>dev_1</td>\n",
       "      <td>#Person1#: Hey Jimmy. Let's go workout later t...</td>\n",
       "      <td>#Person1# invites Jimmy to go workout and pers...</td>\n",
       "      <td>do exercise</td>\n",
       "    </tr>\n",
       "    <tr>\n",
       "      <th>2</th>\n",
       "      <td>dev_2</td>\n",
       "      <td>#Person1#: I need to stop eating such unhealth...</td>\n",
       "      <td>#Person1# plans to stop eating unhealthy foods...</td>\n",
       "      <td>healthy foods</td>\n",
       "    </tr>\n",
       "    <tr>\n",
       "      <th>3</th>\n",
       "      <td>dev_3</td>\n",
       "      <td>#Person1#: Do you believe in UFOs?\\n#Person2#:...</td>\n",
       "      <td>#Person2# believes in UFOs and can see them in...</td>\n",
       "      <td>UFOs and aliens</td>\n",
       "    </tr>\n",
       "    <tr>\n",
       "      <th>4</th>\n",
       "      <td>dev_4</td>\n",
       "      <td>#Person1#: Did you go to school today?\\n#Perso...</td>\n",
       "      <td>#Person1# didn't go to school today. #Person2#...</td>\n",
       "      <td>go to school</td>\n",
       "    </tr>\n",
       "    <tr>\n",
       "      <th>...</th>\n",
       "      <td>...</td>\n",
       "      <td>...</td>\n",
       "      <td>...</td>\n",
       "      <td>...</td>\n",
       "    </tr>\n",
       "    <tr>\n",
       "      <th>495</th>\n",
       "      <td>dev_495</td>\n",
       "      <td>#Person1#: Now that it's the new year, I've de...</td>\n",
       "      <td>#Person1# decides to stop smoking and come out...</td>\n",
       "      <td>the new year</td>\n",
       "    </tr>\n",
       "    <tr>\n",
       "      <th>496</th>\n",
       "      <td>dev_496</td>\n",
       "      <td>#Person1#: You married Joe, didn't you? \\n#Per...</td>\n",
       "      <td>#Person1# thought #Person2# married Joe. #Pers...</td>\n",
       "      <td>fall in love</td>\n",
       "    </tr>\n",
       "    <tr>\n",
       "      <th>497</th>\n",
       "      <td>dev_497</td>\n",
       "      <td>#Person1#: How can I help you mam?\\n#Person2#:...</td>\n",
       "      <td>#Person2#'s car makes noises. #Person1# thinks...</td>\n",
       "      <td>noises</td>\n",
       "    </tr>\n",
       "    <tr>\n",
       "      <th>498</th>\n",
       "      <td>dev_498</td>\n",
       "      <td>#Person1#: Hello, Amazon's customer service. H...</td>\n",
       "      <td>#Person2# calls Amazon's customer service beca...</td>\n",
       "      <td>a missing page</td>\n",
       "    </tr>\n",
       "    <tr>\n",
       "      <th>499</th>\n",
       "      <td>dev_499</td>\n",
       "      <td>#Person1#: I can't believe it's almost summer....</td>\n",
       "      <td>#Person2# tells #Person1# #Person2# is going t...</td>\n",
       "      <td>summer vacation</td>\n",
       "    </tr>\n",
       "  </tbody>\n",
       "</table>\n",
       "<p>500 rows × 4 columns</p>\n",
       "</div>"
      ],
      "text/plain": [
       "          id                                           dialogue  \\\n",
       "0      dev_0  #Person1#: Hello, how are you doing today?\\n#P...   \n",
       "1      dev_1  #Person1#: Hey Jimmy. Let's go workout later t...   \n",
       "2      dev_2  #Person1#: I need to stop eating such unhealth...   \n",
       "3      dev_3  #Person1#: Do you believe in UFOs?\\n#Person2#:...   \n",
       "4      dev_4  #Person1#: Did you go to school today?\\n#Perso...   \n",
       "..       ...                                                ...   \n",
       "495  dev_495  #Person1#: Now that it's the new year, I've de...   \n",
       "496  dev_496  #Person1#: You married Joe, didn't you? \\n#Per...   \n",
       "497  dev_497  #Person1#: How can I help you mam?\\n#Person2#:...   \n",
       "498  dev_498  #Person1#: Hello, Amazon's customer service. H...   \n",
       "499  dev_499  #Person1#: I can't believe it's almost summer....   \n",
       "\n",
       "                                               summary            topic  \n",
       "0    #Person2# has trouble breathing. The doctor as...     see a doctor  \n",
       "1    #Person1# invites Jimmy to go workout and pers...      do exercise  \n",
       "2    #Person1# plans to stop eating unhealthy foods...    healthy foods  \n",
       "3    #Person2# believes in UFOs and can see them in...  UFOs and aliens  \n",
       "4    #Person1# didn't go to school today. #Person2#...     go to school  \n",
       "..                                                 ...              ...  \n",
       "495  #Person1# decides to stop smoking and come out...     the new year  \n",
       "496  #Person1# thought #Person2# married Joe. #Pers...     fall in love  \n",
       "497  #Person2#'s car makes noises. #Person1# thinks...           noises  \n",
       "498  #Person2# calls Amazon's customer service beca...   a missing page  \n",
       "499  #Person2# tells #Person1# #Person2# is going t...  summer vacation  \n",
       "\n",
       "[500 rows x 4 columns]"
      ]
     },
     "execution_count": 4,
     "metadata": {},
     "output_type": "execute_result"
    }
   ],
   "source": [
    "### PREPARING DATASET (WITH GROUND TRUTH) FOR LM-BUDDY JOB\n",
    "dataset='knkarthick/dialogsum'\n",
    "ds = load_dataset(dataset, split='validation')\n",
    "\n",
    "# first, show what the dataset looks like\n",
    "ds.to_pandas()"
   ]
  },
  {
   "cell_type": "code",
   "execution_count": 5,
   "id": "6615c057-6214-44cc-8e3e-d08335896972",
   "metadata": {},
   "outputs": [
    {
     "data": {
      "text/html": [
       "<div>\n",
       "<style scoped>\n",
       "    .dataframe tbody tr th:only-of-type {\n",
       "        vertical-align: middle;\n",
       "    }\n",
       "\n",
       "    .dataframe tbody tr th {\n",
       "        vertical-align: top;\n",
       "    }\n",
       "\n",
       "    .dataframe thead th {\n",
       "        text-align: right;\n",
       "    }\n",
       "</style>\n",
       "<table border=\"1\" class=\"dataframe\">\n",
       "  <thead>\n",
       "    <tr style=\"text-align: right;\">\n",
       "      <th></th>\n",
       "      <th>examples</th>\n",
       "      <th>ground_truth</th>\n",
       "    </tr>\n",
       "  </thead>\n",
       "  <tbody>\n",
       "    <tr>\n",
       "      <th>0</th>\n",
       "      <td>#Person1#: Hello, how are you doing today?\\n#P...</td>\n",
       "      <td>#Person2# has trouble breathing. The doctor as...</td>\n",
       "    </tr>\n",
       "    <tr>\n",
       "      <th>1</th>\n",
       "      <td>#Person1#: Hey Jimmy. Let's go workout later t...</td>\n",
       "      <td>#Person1# invites Jimmy to go workout and pers...</td>\n",
       "    </tr>\n",
       "    <tr>\n",
       "      <th>2</th>\n",
       "      <td>#Person1#: I need to stop eating such unhealth...</td>\n",
       "      <td>#Person1# plans to stop eating unhealthy foods...</td>\n",
       "    </tr>\n",
       "    <tr>\n",
       "      <th>3</th>\n",
       "      <td>#Person1#: Do you believe in UFOs?\\n#Person2#:...</td>\n",
       "      <td>#Person2# believes in UFOs and can see them in...</td>\n",
       "    </tr>\n",
       "    <tr>\n",
       "      <th>4</th>\n",
       "      <td>#Person1#: Did you go to school today?\\n#Perso...</td>\n",
       "      <td>#Person1# didn't go to school today. #Person2#...</td>\n",
       "    </tr>\n",
       "    <tr>\n",
       "      <th>...</th>\n",
       "      <td>...</td>\n",
       "      <td>...</td>\n",
       "    </tr>\n",
       "    <tr>\n",
       "      <th>495</th>\n",
       "      <td>#Person1#: Now that it's the new year, I've de...</td>\n",
       "      <td>#Person1# decides to stop smoking and come out...</td>\n",
       "    </tr>\n",
       "    <tr>\n",
       "      <th>496</th>\n",
       "      <td>#Person1#: You married Joe, didn't you? \\n#Per...</td>\n",
       "      <td>#Person1# thought #Person2# married Joe. #Pers...</td>\n",
       "    </tr>\n",
       "    <tr>\n",
       "      <th>497</th>\n",
       "      <td>#Person1#: How can I help you mam?\\n#Person2#:...</td>\n",
       "      <td>#Person2#'s car makes noises. #Person1# thinks...</td>\n",
       "    </tr>\n",
       "    <tr>\n",
       "      <th>498</th>\n",
       "      <td>#Person1#: Hello, Amazon's customer service. H...</td>\n",
       "      <td>#Person2# calls Amazon's customer service beca...</td>\n",
       "    </tr>\n",
       "    <tr>\n",
       "      <th>499</th>\n",
       "      <td>#Person1#: I can't believe it's almost summer....</td>\n",
       "      <td>#Person2# tells #Person1# #Person2# is going t...</td>\n",
       "    </tr>\n",
       "  </tbody>\n",
       "</table>\n",
       "<p>500 rows × 2 columns</p>\n",
       "</div>"
      ],
      "text/plain": [
       "                                              examples  \\\n",
       "0    #Person1#: Hello, how are you doing today?\\n#P...   \n",
       "1    #Person1#: Hey Jimmy. Let's go workout later t...   \n",
       "2    #Person1#: I need to stop eating such unhealth...   \n",
       "3    #Person1#: Do you believe in UFOs?\\n#Person2#:...   \n",
       "4    #Person1#: Did you go to school today?\\n#Perso...   \n",
       "..                                                 ...   \n",
       "495  #Person1#: Now that it's the new year, I've de...   \n",
       "496  #Person1#: You married Joe, didn't you? \\n#Per...   \n",
       "497  #Person1#: How can I help you mam?\\n#Person2#:...   \n",
       "498  #Person1#: Hello, Amazon's customer service. H...   \n",
       "499  #Person1#: I can't believe it's almost summer....   \n",
       "\n",
       "                                          ground_truth  \n",
       "0    #Person2# has trouble breathing. The doctor as...  \n",
       "1    #Person1# invites Jimmy to go workout and pers...  \n",
       "2    #Person1# plans to stop eating unhealthy foods...  \n",
       "3    #Person2# believes in UFOs and can see them in...  \n",
       "4    #Person1# didn't go to school today. #Person2#...  \n",
       "..                                                 ...  \n",
       "495  #Person1# decides to stop smoking and come out...  \n",
       "496  #Person1# thought #Person2# married Joe. #Pers...  \n",
       "497  #Person2#'s car makes noises. #Person1# thinks...  \n",
       "498  #Person2# calls Amazon's customer service beca...  \n",
       "499  #Person2# tells #Person1# #Person2# is going t...  \n",
       "\n",
       "[500 rows x 2 columns]"
      ]
     },
     "execution_count": 5,
     "metadata": {},
     "output_type": "execute_result"
    }
   ],
   "source": [
    "# the following code removes unwanted fields and renames the remaining ones\n",
    "# so they are compatible\n",
    "ds = ds.remove_columns([\"id\", \"topic\"])\n",
    "ds = ds.rename_column(\"dialogue\", \"examples\")\n",
    "ds = ds.rename_column(\"summary\", \"ground_truth\")\n",
    "\n",
    "ds.to_pandas()"
   ]
  },
  {
   "cell_type": "markdown",
   "id": "33c7c28a-b42e-4ea6-a4f4-113a34d328ec",
   "metadata": {},
   "source": [
    "### Saving the dataset\n",
    "\n",
    "Once data is converted, you can save the dataset locally so it is ready for the upload"
   ]
  },
  {
   "cell_type": "code",
   "execution_count": 6,
   "id": "53ead9cf-96ce-4d6e-a046-e99f05494f6b",
   "metadata": {
    "scrolled": true
   },
   "outputs": [
    {
     "data": {
      "application/vnd.jupyter.widget-view+json": {
       "model_id": "e16c7d8d51b3441b82677a72dd8cf206",
       "version_major": 2,
       "version_minor": 0
      },
      "text/plain": [
       "Creating CSV from Arrow format:   0%|          | 0/1 [00:00<?, ?ba/s]"
      ]
     },
     "metadata": {},
     "output_type": "display_data"
    },
    {
     "data": {
      "text/plain": [
       "430961"
      ]
     },
     "execution_count": 6,
     "metadata": {},
     "output_type": "execute_result"
    }
   ],
   "source": [
    "dataset_name = \"dialogsum_converted.csv\"\n",
    "ds.to_csv(dataset_name)"
   ]
  },
  {
   "cell_type": "markdown",
   "id": "10cd2727-f454-4d05-9dfc-2e7e04525200",
   "metadata": {},
   "source": [
    "## Dataset Upload"
   ]
  },
  {
   "cell_type": "code",
   "execution_count": 7,
   "id": "ba9aec15-f008-4ca3-9dc6-9b1cf76c0bd1",
   "metadata": {},
   "outputs": [
    {
     "name": "stdout",
     "output_type": "stream",
     "text": [
      "{\n",
      "  \"id\": \"104d4f1e-c6ce-4d55-9258-4341111daf7c\",\n",
      "  \"filename\": \"dialogsum_converted.csv\",\n",
      "  \"format\": \"experiment\",\n",
      "  \"size\": 430961,\n",
      "  \"created_at\": \"2024-07-24T11:29:48.321797Z\"\n",
      "}\n"
     ]
    }
   ],
   "source": [
    "r = ld.dataset_upload(dataset_name)\n",
    "dataset_id = ld.get_resource_id(r)"
   ]
  },
  {
   "cell_type": "markdown",
   "id": "af052281-3a03-4d86-ae41-2e926cd58f31",
   "metadata": {},
   "source": [
    "### Check dataset info\n",
    "\n",
    "At any point, one can get dataset info by just providing its UUID:"
   ]
  },
  {
   "cell_type": "code",
   "execution_count": 8,
   "id": "63aeb069-17a0-4112-912c-aea738ee18ef",
   "metadata": {},
   "outputs": [
    {
     "name": "stdout",
     "output_type": "stream",
     "text": [
      "{\n",
      "  \"id\": \"104d4f1e-c6ce-4d55-9258-4341111daf7c\",\n",
      "  \"filename\": \"dialogsum_converted.csv\",\n",
      "  \"format\": \"experiment\",\n",
      "  \"size\": 430961,\n",
      "  \"created_at\": \"2024-07-24T11:29:48.321797Z\"\n",
      "}\n"
     ]
    }
   ],
   "source": [
    "r = ld.dataset_info(dataset_id)"
   ]
  },
  {
   "cell_type": "markdown",
   "id": "f0bb60fc-1045-4cc4-bf38-2254d09d4f23",
   "metadata": {},
   "source": [
    "## Model Choice\n",
    "\n",
    "For now we just provide models as a list, later we'll have an API endpoint that returns models for a given task (still as a list)"
   ]
  },
  {
   "cell_type": "code",
   "execution_count": 9,
   "id": "6eded5fb-92b7-4aad-99f4-45440e4c245a",
   "metadata": {},
   "outputs": [],
   "source": [
    "enc_dec_models = [\n",
    "    'hf://facebook/bart-large-cnn',\n",
    "    'hf://mikeadimech/longformer-qmsum-meeting-summarization', \n",
    "    'hf://mrm8488/t5-base-finetuned-summarize-news',\n",
    "    'hf://Falconsai/text_summarization',\n",
    "]\n",
    "\n",
    "dec_models = [\n",
    "    'hf://mistralai/Mistral-7B-v0.1',\n",
    "    'hf://meta-llama/Meta-Llama-3-8B',\n",
    "    'hf://microsoft/Phi-3-mini-4k-instruct',\n",
    "]\n",
    "\n",
    "# models = enc_dec_models + dec_models\n",
    "models = enc_dec_models"
   ]
  },
  {
   "cell_type": "code",
   "execution_count": 10,
   "id": "b1d01eac-06b5-438e-9e68-45b96ca92e37",
   "metadata": {},
   "outputs": [
    {
     "data": {
      "text/plain": [
       "['hf://facebook/bart-large-cnn',\n",
       " 'hf://mikeadimech/longformer-qmsum-meeting-summarization',\n",
       " 'hf://mrm8488/t5-base-finetuned-summarize-news',\n",
       " 'hf://Falconsai/text_summarization']"
      ]
     },
     "execution_count": 10,
     "metadata": {},
     "output_type": "execute_result"
    }
   ],
   "source": [
    "models"
   ]
  },
  {
   "cell_type": "markdown",
   "id": "4ec82900-07bd-4a48-a73e-e4438857ca2e",
   "metadata": {},
   "source": [
    "## Run Evaluations"
   ]
  },
  {
   "cell_type": "code",
   "execution_count": 11,
   "id": "6b73f6a1-7be9-43a7-8304-4cb6a408318e",
   "metadata": {},
   "outputs": [
    {
     "name": "stdout",
     "output_type": "stream",
     "text": [
      "{\n",
      "  \"id\": \"639b0430-b66d-4604-8347-17a58132e5aa\",\n",
      "  \"name\": \"testing_lumigator\",\n",
      "  \"description\": \"Testing hf://facebook/bart-large-cnn summarization model on dialogsum_converted.csv\",\n",
      "  \"status\": \"created\",\n",
      "  \"created_at\": \"2024-07-24T11:29:52.646691Z\",\n",
      "  \"updated_at\": null\n",
      "}\n",
      "{\n",
      "  \"id\": \"8a48753d-9486-4782-a163-aa840f206700\",\n",
      "  \"name\": \"testing_lumigator\",\n",
      "  \"description\": \"Testing hf://mikeadimech/longformer-qmsum-meeting-summarization summarization model on dialogsum_converted.csv\",\n",
      "  \"status\": \"created\",\n",
      "  \"created_at\": \"2024-07-24T11:29:53.219070Z\",\n",
      "  \"updated_at\": null\n",
      "}\n",
      "{\n",
      "  \"id\": \"11c74d42-988c-409f-851f-5d3602a27d11\",\n",
      "  \"name\": \"testing_lumigator\",\n",
      "  \"description\": \"Testing hf://mrm8488/t5-base-finetuned-summarize-news summarization model on dialogsum_converted.csv\",\n",
      "  \"status\": \"created\",\n",
      "  \"created_at\": \"2024-07-24T11:29:53.791749Z\",\n",
      "  \"updated_at\": null\n",
      "}\n",
      "{\n",
      "  \"id\": \"51f5751b-6d8d-40c0-bfd5-4253e7b16cf9\",\n",
      "  \"name\": \"testing_lumigator\",\n",
      "  \"description\": \"Testing hf://Falconsai/text_summarization summarization model on dialogsum_converted.csv\",\n",
      "  \"status\": \"created\",\n",
      "  \"created_at\": \"2024-07-24T11:29:54.370719Z\",\n",
      "  \"updated_at\": null\n",
      "}\n"
     ]
    }
   ],
   "source": [
    "max_samples = 10\n",
    "\n",
    "responses = []\n",
    "for model in models:\n",
    "    name = team_name\n",
    "    descr = f\"Testing {model} summarization model on {dataset_name}\"\n",
    "    responses.append(ld.experiments_submit(model, name, descr, dataset_id, max_samples))"
   ]
  },
  {
   "cell_type": "markdown",
   "id": "62ab9922-02c1-4163-b07c-c60ff0c7e9dd",
   "metadata": {},
   "source": [
    "### Track evaluation jobs\n",
    "\n",
    "You can track the jobs at the following URLs:"
   ]
  },
  {
   "cell_type": "code",
   "execution_count": 12,
   "id": "3a0d7291-c52f-46fc-b3f3-4fe8107e6396",
   "metadata": {},
   "outputs": [
    {
     "name": "stdout",
     "output_type": "stream",
     "text": [
      "http://10.144.20.102:8265/#/jobs/639b0430-b66d-4604-8347-17a58132e5aa\n",
      "http://10.144.20.102:8265/#/jobs/8a48753d-9486-4782-a163-aa840f206700\n",
      "http://10.144.20.102:8265/#/jobs/11c74d42-988c-409f-851f-5d3602a27d11\n",
      "http://10.144.20.102:8265/#/jobs/51f5751b-6d8d-40c0-bfd5-4253e7b16cf9\n"
     ]
    }
   ],
   "source": [
    "job_ids = [ld.get_resource_id(r) for r in responses]\n",
    "\n",
    "for job_id in job_ids:\n",
    "    print(ld.get_ray_link(job_id, ld.RAY_SERVER_URL))"
   ]
  },
  {
   "cell_type": "markdown",
   "id": "39df03c2-fb96-447f-aed3-b1c085cfeb42",
   "metadata": {},
   "source": [
    "## See / Compare Evaluation Results"
   ]
  },
  {
   "cell_type": "code",
   "execution_count": 13,
   "id": "5b8709b8-59ba-4a9c-81bd-59b2fc612f99",
   "metadata": {},
   "outputs": [],
   "source": [
    "# after the jobs complete, gather evaluation results\n",
    "eval_results = []\n",
    "for job_id in job_ids:\n",
    "    eval_results.append(ld.experiments_result_download(job_id))\n",
    "\n",
    "# convert results into a pandas dataframe\n",
    "eval_table = ld.eval_results_to_table(models, eval_results)"
   ]
  },
  {
   "cell_type": "code",
   "execution_count": 14,
   "id": "10cf5e90-7fa2-4a7d-98bf-2ff5d736c05e",
   "metadata": {},
   "outputs": [
    {
     "data": {
      "text/html": [
       "<div>\n",
       "<style scoped>\n",
       "    .dataframe tbody tr th:only-of-type {\n",
       "        vertical-align: middle;\n",
       "    }\n",
       "\n",
       "    .dataframe tbody tr th {\n",
       "        vertical-align: top;\n",
       "    }\n",
       "\n",
       "    .dataframe thead th {\n",
       "        text-align: right;\n",
       "    }\n",
       "</style>\n",
       "<table border=\"1\" class=\"dataframe\">\n",
       "  <thead>\n",
       "    <tr style=\"text-align: right;\">\n",
       "      <th></th>\n",
       "      <th>Model</th>\n",
       "      <th>Meteor</th>\n",
       "      <th>BERT Precision</th>\n",
       "      <th>BERT Recall</th>\n",
       "      <th>BERT F1</th>\n",
       "      <th>ROUGE-1</th>\n",
       "      <th>ROUGE-2</th>\n",
       "      <th>ROUGE-L</th>\n",
       "    </tr>\n",
       "  </thead>\n",
       "  <tbody>\n",
       "    <tr>\n",
       "      <th>0</th>\n",
       "      <td>facebook/bart-large-cnn</td>\n",
       "      <td>0.327604</td>\n",
       "      <td>0.867442</td>\n",
       "      <td>0.864527</td>\n",
       "      <td>0.865518</td>\n",
       "      <td>0.291195</td>\n",
       "      <td>0.140441</td>\n",
       "      <td>0.232568</td>\n",
       "    </tr>\n",
       "    <tr>\n",
       "      <th>1</th>\n",
       "      <td>mikeadimech/longformer-qmsum-meeting-summariza...</td>\n",
       "      <td>0.252314</td>\n",
       "      <td>0.879634</td>\n",
       "      <td>0.871928</td>\n",
       "      <td>0.875584</td>\n",
       "      <td>0.287025</td>\n",
       "      <td>0.126523</td>\n",
       "      <td>0.274490</td>\n",
       "    </tr>\n",
       "    <tr>\n",
       "      <th>2</th>\n",
       "      <td>mrm8488/t5-base-finetuned-summarize-news</td>\n",
       "      <td>0.336070</td>\n",
       "      <td>0.855851</td>\n",
       "      <td>0.881096</td>\n",
       "      <td>0.868124</td>\n",
       "      <td>0.238310</td>\n",
       "      <td>0.112606</td>\n",
       "      <td>0.213369</td>\n",
       "    </tr>\n",
       "    <tr>\n",
       "      <th>3</th>\n",
       "      <td>Falconsai/text_summarization</td>\n",
       "      <td>0.350005</td>\n",
       "      <td>0.858572</td>\n",
       "      <td>0.884689</td>\n",
       "      <td>0.871319</td>\n",
       "      <td>0.290522</td>\n",
       "      <td>0.089349</td>\n",
       "      <td>0.225717</td>\n",
       "    </tr>\n",
       "  </tbody>\n",
       "</table>\n",
       "</div>"
      ],
      "text/plain": [
       "                                               Model    Meteor  \\\n",
       "0                            facebook/bart-large-cnn  0.327604   \n",
       "1  mikeadimech/longformer-qmsum-meeting-summariza...  0.252314   \n",
       "2           mrm8488/t5-base-finetuned-summarize-news  0.336070   \n",
       "3                       Falconsai/text_summarization  0.350005   \n",
       "\n",
       "   BERT Precision  BERT Recall   BERT F1   ROUGE-1   ROUGE-2   ROUGE-L  \n",
       "0        0.867442     0.864527  0.865518  0.291195  0.140441  0.232568  \n",
       "1        0.879634     0.871928  0.875584  0.287025  0.126523  0.274490  \n",
       "2        0.855851     0.881096  0.868124  0.238310  0.112606  0.213369  \n",
       "3        0.858572     0.884689  0.871319  0.290522  0.089349  0.225717  "
      ]
     },
     "execution_count": 14,
     "metadata": {},
     "output_type": "execute_result"
    }
   ],
   "source": [
    "eval_table"
   ]
  },
  {
   "cell_type": "markdown",
   "id": "383f88d3-084b-47b1-85df-2947f4d9abf5",
   "metadata": {},
   "source": [
    "# Observability Tools\n",
    "\n",
    "This section contains tools to inspect the system, e.g. check the filesystem, the DB, etc."
   ]
  },
  {
   "cell_type": "markdown",
   "id": "bef2fad3-44bc-4d0d-981a-45fa775bcc26",
   "metadata": {},
   "source": [
    "## S3"
   ]
  },
  {
   "cell_type": "markdown",
   "id": "aaf0fa66-df7e-4589-a30a-7c3607991333",
   "metadata": {},
   "source": [
    "### Check (local) AWS credentials"
   ]
  },
  {
   "cell_type": "code",
   "execution_count": null,
   "id": "97fe29d4-ce72-4375-bb68-6c01c5979e68",
   "metadata": {},
   "outputs": [],
   "source": [
    "import os\n",
    "\n",
    "for k in [\"AWS_ACCESS_KEY_ID\", \"AWS_SECRET_ACCESS_KEY\", \"AWS_ENDPOINT_URL\"]:\n",
    "    print(f\"[{k}]: {os.environ[k]}\")"
   ]
  },
  {
   "cell_type": "markdown",
   "id": "8d6aa507-4501-4a57-bf86-f2977527b3cf",
   "metadata": {},
   "source": [
    "### Look into S3 storage"
   ]
  },
  {
   "cell_type": "code",
   "execution_count": 18,
   "id": "49024fbc-d810-45c3-ad5b-de98745fb62c",
   "metadata": {},
   "outputs": [
    {
     "name": "stdout",
     "output_type": "stream",
     "text": [
      "                                  DIR  datasets/\n",
      "                                  DIR  experiments/\n"
     ]
    }
   ],
   "source": [
    "!s5cmd --endpoint-url $AWS_ENDPOINT_URL ls s3://lumigator-storage"
   ]
  },
  {
   "cell_type": "code",
   "execution_count": null,
   "id": "597bbda6-174d-417e-a13d-93b08c8901b3",
   "metadata": {},
   "outputs": [],
   "source": []
  }
 ],
 "metadata": {
  "kernelspec": {
   "display_name": "Python 3 (ipykernel)",
   "language": "python",
   "name": "python3"
  },
  "language_info": {
   "codemirror_mode": {
    "name": "ipython",
    "version": 3
   },
   "file_extension": ".py",
   "mimetype": "text/x-python",
   "name": "python",
   "nbconvert_exporter": "python",
   "pygments_lexer": "ipython3",
   "version": "3.11.9"
  }
 },
 "nbformat": 4,
 "nbformat_minor": 5
}
