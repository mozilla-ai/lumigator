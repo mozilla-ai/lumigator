{
 "cells": [
  {
   "cell_type": "markdown",
   "id": "4965a253-ff2e-4925-97bb-4e6a24481666",
   "metadata": {},
   "source": [
    "# Demo of Translation Use Case with Lumigator SDK"
   ]
  },
  {
   "cell_type": "markdown",
   "id": "3652ddd9",
   "metadata": {},
   "source": [
    "### Lumigator Client\n",
    "Check if client is up and running"
   ]
  },
  {
   "cell_type": "code",
   "execution_count": 1,
   "id": "67dc9899-abbe-4ae7-8352-fdfd77acbf5b",
   "metadata": {},
   "outputs": [],
   "source": [
    "from lumigator_sdk.lumigator import LumigatorClient"
   ]
  },
  {
   "cell_type": "code",
   "execution_count": 2,
   "id": "86bbf498-70e1-4e6f-9a3d-5c201fb7fea6",
   "metadata": {},
   "outputs": [
    {
     "name": "stdout",
     "output_type": "stream",
     "text": [
      "Connection is: OK\n"
     ]
    }
   ],
   "source": [
    "LUMI_HOST = \"localhost:8000\"\n",
    "client = LumigatorClient(api_host=LUMI_HOST)\n",
    "print(f\"Connection is: {client.health.healthcheck().status}\")"
   ]
  },
  {
   "cell_type": "markdown",
   "id": "fd504a65",
   "metadata": {},
   "source": [
    "### Dataset\n",
    "Using `google/wmt24pp` datasets from Huggingface Datasets, released as a part of [WMT24++: Expanding the Language Coverage of WMT24 to 55 Languages & Dialects](https://arxiv.org/abs/2502.12404v1)"
   ]
  },
  {
   "cell_type": "code",
   "execution_count": 3,
   "id": "2d48e754-41ed-4fb4-9650-af1b8538e16a",
   "metadata": {},
   "outputs": [],
   "source": [
    "import pandas as pd\n",
    "from datasets import load_dataset"
   ]
  },
  {
   "cell_type": "code",
   "execution_count": 4,
   "id": "a26aa546-48d9-437c-a338-aaaea5e1584e",
   "metadata": {},
   "outputs": [],
   "source": [
    "source_language = \"English\"\n",
    "target_language = \"German\"\n",
    "language_pair = \"en-de_DE\"\n",
    "dataset = load_dataset(\"google/wmt24pp\", language_pair, split=\"train\")"
   ]
  },
  {
   "cell_type": "code",
   "execution_count": 5,
   "id": "412a53c6-ed38-4d6a-a26d-2e0e6c5b8987",
   "metadata": {},
   "outputs": [
    {
     "name": "stdout",
     "output_type": "stream",
     "text": [
      "Loaded 997 sentence pairs\n"
     ]
    },
    {
     "data": {
      "text/html": [
       "<div>\n",
       "<style scoped>\n",
       "    .dataframe tbody tr th:only-of-type {\n",
       "        vertical-align: middle;\n",
       "    }\n",
       "\n",
       "    .dataframe tbody tr th {\n",
       "        vertical-align: top;\n",
       "    }\n",
       "\n",
       "    .dataframe thead th {\n",
       "        text-align: right;\n",
       "    }\n",
       "</style>\n",
       "<table border=\"1\" class=\"dataframe\">\n",
       "  <thead>\n",
       "    <tr style=\"text-align: right;\">\n",
       "      <th></th>\n",
       "      <th>source</th>\n",
       "      <th>target</th>\n",
       "    </tr>\n",
       "  </thead>\n",
       "  <tbody>\n",
       "    <tr>\n",
       "      <th>0</th>\n",
       "      <td>Siso's depictions of land, water center new ga...</td>\n",
       "      <td>Sisos Darstellungen von Land und Wasser in neu...</td>\n",
       "    </tr>\n",
       "    <tr>\n",
       "      <th>1</th>\n",
       "      <td>\"People Swimming in the Swimming Pool\" from 20...</td>\n",
       "      <td>„People Swimming in the Swimming Pool“ aus dem...</td>\n",
       "    </tr>\n",
       "    <tr>\n",
       "      <th>2</th>\n",
       "      <td>Tierra del Sol is pleased to present \"Vicente ...</td>\n",
       "      <td>„Vicente Siso: Memories of the Land and Water“...</td>\n",
       "    </tr>\n",
       "    <tr>\n",
       "      <th>3</th>\n",
       "      <td>Masterfully working across subject matter, Sis...</td>\n",
       "      <td>In zahlreichen Serien von Landschaften, Porträ...</td>\n",
       "    </tr>\n",
       "    <tr>\n",
       "      <th>4</th>\n",
       "      <td>The Tierra del Sol Gallery is located at 7414 ...</td>\n",
       "      <td>Galerie „Tierra del Sol“, 7414 Santa Monica Bl...</td>\n",
       "    </tr>\n",
       "  </tbody>\n",
       "</table>\n",
       "</div>"
      ],
      "text/plain": [
       "                                              source  \\\n",
       "0  Siso's depictions of land, water center new ga...   \n",
       "1  \"People Swimming in the Swimming Pool\" from 20...   \n",
       "2  Tierra del Sol is pleased to present \"Vicente ...   \n",
       "3  Masterfully working across subject matter, Sis...   \n",
       "4  The Tierra del Sol Gallery is located at 7414 ...   \n",
       "\n",
       "                                              target  \n",
       "0  Sisos Darstellungen von Land und Wasser in neu...  \n",
       "1  „People Swimming in the Swimming Pool“ aus dem...  \n",
       "2  „Vicente Siso: Memories of the Land and Water“...  \n",
       "3  In zahlreichen Serien von Landschaften, Porträ...  \n",
       "4  Galerie „Tierra del Sol“, 7414 Santa Monica Bl...  "
      ]
     },
     "execution_count": 5,
     "metadata": {},
     "output_type": "execute_result"
    }
   ],
   "source": [
    "df_translation = pd.DataFrame(dataset[1:])[[\"source\", \"target\"]]\n",
    "print(f\"Loaded {len(df_translation)} sentence pairs\")\n",
    "df_translation.head()"
   ]
  },
  {
   "cell_type": "code",
   "execution_count": 6,
   "id": "6f67ab2e-4be3-4430-9ceb-46e25db12fc1",
   "metadata": {},
   "outputs": [],
   "source": [
    "# Rename the columns to examples and ground_truth\n",
    "df_translation = df_translation.rename(columns={\"source\": \"examples\", \"target\": \"ground_truth\"})\n",
    "filename = \"translation_eval_dataset.csv\"\n",
    "df_translation = df_translation.head(10)\n",
    "df_translation.to_csv(filename, index=False)  # Save the file locally with 10 samples"
   ]
  },
  {
   "cell_type": "markdown",
   "id": "40f70acd",
   "metadata": {},
   "source": [
    "### Upload Dataset"
   ]
  },
  {
   "cell_type": "code",
   "execution_count": 7,
   "id": "e26ae289-3cca-4805-ab42-3518235c21c3",
   "metadata": {},
   "outputs": [
    {
     "name": "stdout",
     "output_type": "stream",
     "text": [
      "Dataset uploaded and has ID: 10a0a229-7bc4-42c5-bea0-6758cffd85d9\n"
     ]
    }
   ],
   "source": [
    "from pathlib import Path\n",
    "\n",
    "from lumigator_schemas.datasets import DatasetFormat\n",
    "\n",
    "# Upload that file that we created earlier\n",
    "with Path.open(Path(filename), \"r\") as file:\n",
    "    data = file.read()\n",
    "dataset_response = client.datasets.create_dataset(dataset=data, format=DatasetFormat.JOB)\n",
    "dataset_id = dataset_response.id\n",
    "print(f\"Dataset uploaded and has ID: {dataset_id}\")"
   ]
  },
  {
   "cell_type": "markdown",
   "id": "9db30aee",
   "metadata": {},
   "source": [
    "### Create Experiment"
   ]
  },
  {
   "cell_type": "code",
   "execution_count": 8,
   "id": "80bdca29-2436-48a8-bdb0-cbd19631bafe",
   "metadata": {},
   "outputs": [
    {
     "name": "stdout",
     "output_type": "stream",
     "text": [
      "Experiment created and has ID: 9\n"
     ]
    }
   ],
   "source": [
    "from lumigator_schemas.experiments import ExperimentCreate\n",
    "\n",
    "# Task as translation with necessary params\n",
    "task_definition = {\n",
    "    \"task\": \"translation\",\n",
    "    \"source_language\": source_language,\n",
    "    \"target_language\": target_language,\n",
    "}\n",
    "max_samples = 5\n",
    "\n",
    "request = ExperimentCreate(\n",
    "    name=f\"Demo Experiment {source_language} to {target_language}\",\n",
    "    description=\"Experiment for demo\",\n",
    "    dataset=dataset_id,\n",
    "    task_definition=task_definition,\n",
    "    max_samples=max_samples,\n",
    ")\n",
    "\n",
    "experiment_response = client.experiments.create_experiment(request)\n",
    "experiment_id = experiment_response.id\n",
    "print(f\"Experiment created and has ID: {experiment_id}\")"
   ]
  },
  {
   "cell_type": "markdown",
   "id": "f11fccdc",
   "metadata": {},
   "source": [
    "### Create and Run Workflows\n",
    "- One with API-based Open AI GPT-4o-mini\n",
    "- One with locally hosted Ollama model (Pre-requisite: `ollama run qwen2.5`)\n",
    "- One with a multilingual model on HuggingFace\n",
    "- One with a bilingual Opus-MT model on HuggingFace"
   ]
  },
  {
   "cell_type": "code",
   "execution_count": 10,
   "id": "2286c5e1-71e5-45c5-8554-811dcdc65e95",
   "metadata": {},
   "outputs": [
    {
     "name": "stdout",
     "output_type": "stream",
     "text": [
      "Created workflow Translation with gpt-4o-mini with ID fa5618d564594d7b8f6a729b63cb57c2 for model gpt-4o-mini\n",
      "Created workflow Translation with ollama qwen2.5 with ID 76ffee9bda2640dbb3074dc0d39e18de for model qwen2.5\n",
      "Created workflow Translation with HF m2m100 with ID 05b3b3d39e7f4456bc8ab683da309970 for model facebook/m2m100_418M\n",
      "Created workflow Translation with Helsinki-NLP/opus-mt with ID f5462c0382d046678d0178a0fcb65b16 for model Helsinki-NLP/opus-mt-en-de\n"
     ]
    }
   ],
   "source": [
    "from lumigator_schemas.workflows import WorkflowCreateRequest\n",
    "\n",
    "custom_system_prompt = f\"\"\"\n",
    "You are an expert in {source_language} and {target_language}. \n",
    "Please provide a high-quality translation of the following text from {source_language} to {target_language}.\n",
    "Only generate the translated text. No additional text or explanation needed.\n",
    "\"\"\"\n",
    "batch_size = 5\n",
    "metrics = [\"bleu\", \"meteor\", \"comet\"]\n",
    "configurations = [\n",
    "    # OpenAI GPt-4o-mini no explicit system prompt - uses default prompt set by Lumigator under the hood\n",
    "    {\n",
    "        \"name\": \"Translation with gpt-4o-mini\",\n",
    "        \"model\": \"gpt-4o-mini\",\n",
    "        \"provider\": \"openai\",\n",
    "        \"secret_key_name\": \"openai_api_key\",\n",
    "    },\n",
    "    # Locally hosted Ollama model with custom system prompt\n",
    "    {\n",
    "        \"name\": \"Translation with ollama qwen2.5\",\n",
    "        \"model\": \"qwen2.5\",\n",
    "        \"provider\": \"openai\",\n",
    "        \"base_url\": \"http://localhost:11434/v1\",\n",
    "        \"system_prompt\": custom_system_prompt,\n",
    "        \"secret_key_name\": \"openai_api_key\",\n",
    "    },\n",
    "    # HuggingFace multi-lingual model\n",
    "    {\n",
    "        \"name\": \"Translation with HF m2m100\",\n",
    "        \"model\": \"facebook/m2m100_418M\",\n",
    "        \"provider\": \"hf\",\n",
    "    },\n",
    "    # HuggingFace Opus-MT bi-lingual model\n",
    "    {\n",
    "        \"name\": \"Translation with Helsinki-NLP/opus-mt\",\n",
    "        \"model\": \"Helsinki-NLP/opus-mt-en-de\",\n",
    "        \"provider\": \"hf\",\n",
    "    },\n",
    "]\n",
    "\n",
    "workflow_ids = []\n",
    "for config in configurations:\n",
    "    params = {\n",
    "        \"name\": config[\"name\"],\n",
    "        \"model\": config[\"model\"],\n",
    "        \"experiment_id\": experiment_id,\n",
    "        \"batch_size\": batch_size,\n",
    "        \"metrics\": metrics,\n",
    "    }\n",
    "    params.update(config)\n",
    "    request = WorkflowCreateRequest(**params)\n",
    "    created_workflow = client.workflows.create_workflow(request)\n",
    "    print(f\"Created workflow {created_workflow.name} with ID {created_workflow.id} for model {created_workflow.model}\")\n",
    "    workflow_ids.append(created_workflow.id)"
   ]
  },
  {
   "cell_type": "markdown",
   "id": "e9a51f48-f84e-49e2-8f2e-892cbdbb2368",
   "metadata": {},
   "source": [
    "### View Results\n",
    "Check http://localhost/experiments for status. Once the experiment status is `SUCCEEDED`, proceed further. "
   ]
  },
  {
   "cell_type": "code",
   "execution_count": 19,
   "id": "614e0298-5d23-4a7d-97e9-e97b0db915c3",
   "metadata": {},
   "outputs": [
    {
     "data": {
      "text/html": [
       "<div>\n",
       "<style scoped>\n",
       "    .dataframe tbody tr th:only-of-type {\n",
       "        vertical-align: middle;\n",
       "    }\n",
       "\n",
       "    .dataframe tbody tr th {\n",
       "        vertical-align: top;\n",
       "    }\n",
       "\n",
       "    .dataframe thead th {\n",
       "        text-align: right;\n",
       "    }\n",
       "</style>\n",
       "<table border=\"1\" class=\"dataframe\">\n",
       "  <thead>\n",
       "    <tr style=\"text-align: right;\">\n",
       "      <th></th>\n",
       "      <th>meteor_meteor_mean</th>\n",
       "      <th>bleu_bleu_mean</th>\n",
       "      <th>comet_mean_score</th>\n",
       "      <th>bertscore_f1_mean</th>\n",
       "      <th>rouge_rougeL_mean</th>\n",
       "    </tr>\n",
       "  </thead>\n",
       "  <tbody>\n",
       "    <tr>\n",
       "      <th>Helsinki-NLP/opus-mt-en-de</th>\n",
       "      <td>0.602</td>\n",
       "      <td>0.223</td>\n",
       "      <td>0.585</td>\n",
       "      <td>0.906</td>\n",
       "      <td>0.573</td>\n",
       "    </tr>\n",
       "  </tbody>\n",
       "</table>\n",
       "</div>"
      ],
      "text/plain": [
       "                            meteor_meteor_mean  bleu_bleu_mean  \\\n",
       "Helsinki-NLP/opus-mt-en-de               0.602           0.223   \n",
       "\n",
       "                            comet_mean_score  bertscore_f1_mean  \\\n",
       "Helsinki-NLP/opus-mt-en-de             0.585              0.906   \n",
       "\n",
       "                            rouge_rougeL_mean  \n",
       "Helsinki-NLP/opus-mt-en-de              0.573  "
      ]
     },
     "execution_count": 19,
     "metadata": {},
     "output_type": "execute_result"
    }
   ],
   "source": [
    "workflow_results = [client.workflows.get_workflow(workflow_id) for workflow_id in workflow_ids]\n",
    "df_metrics = pd.concat([pd.DataFrame.from_dict({wr.model: wr.metrics}).T for wr in workflow_results])\n",
    "df_metrics[[\"meteor_meteor_mean\", \"bleu_bleu_mean\", \"comet_mean_score\"]]"
   ]
  },
  {
   "cell_type": "code",
   "execution_count": 20,
   "id": "e5761bc8-87f1-467a-9d4a-2c7fa68b5af0",
   "metadata": {},
   "outputs": [
    {
     "name": "stdout",
     "output_type": "stream",
     "text": [
      "Model: Helsinki-NLP/opus-mt-en-de\n"
     ]
    },
    {
     "data": {
      "text/html": [
       "<div>\n",
       "<style scoped>\n",
       "    .dataframe tbody tr th:only-of-type {\n",
       "        vertical-align: middle;\n",
       "    }\n",
       "\n",
       "    .dataframe tbody tr th {\n",
       "        vertical-align: top;\n",
       "    }\n",
       "\n",
       "    .dataframe thead th {\n",
       "        text-align: right;\n",
       "    }\n",
       "</style>\n",
       "<table border=\"1\" class=\"dataframe\">\n",
       "  <thead>\n",
       "    <tr style=\"text-align: right;\">\n",
       "      <th></th>\n",
       "      <th>examples</th>\n",
       "      <th>ground_truth</th>\n",
       "      <th>predictions</th>\n",
       "    </tr>\n",
       "  </thead>\n",
       "  <tbody>\n",
       "    <tr>\n",
       "      <th>0</th>\n",
       "      <td>Siso's depictions of land, water center new ga...</td>\n",
       "      <td>Sisos Darstellungen von Land und Wasser in neu...</td>\n",
       "      <td>Siso's Darstellungen von Land, Wasserzentrum n...</td>\n",
       "    </tr>\n",
       "    <tr>\n",
       "      <th>1</th>\n",
       "      <td>\"People Swimming in the Swimming Pool\" from 20...</td>\n",
       "      <td>„People Swimming in the Swimming Pool“ aus dem...</td>\n",
       "      <td>\"People Swimming in the Swimming Pool\" von 202...</td>\n",
       "    </tr>\n",
       "  </tbody>\n",
       "</table>\n",
       "</div>"
      ],
      "text/plain": [
       "                                            examples  \\\n",
       "0  Siso's depictions of land, water center new ga...   \n",
       "1  \"People Swimming in the Swimming Pool\" from 20...   \n",
       "\n",
       "                                        ground_truth  \\\n",
       "0  Sisos Darstellungen von Land und Wasser in neu...   \n",
       "1  „People Swimming in the Swimming Pool“ aus dem...   \n",
       "\n",
       "                                         predictions  \n",
       "0  Siso's Darstellungen von Land, Wasserzentrum n...  \n",
       "1  \"People Swimming in the Swimming Pool\" von 202...  "
      ]
     },
     "metadata": {},
     "output_type": "display_data"
    }
   ],
   "source": [
    "output_texts_per_model = {\n",
    "    wr.model: pd.read_json(wr.artifacts_download_url)[\"artifacts\"][\n",
    "        [\"examples\", \"ground_truth\", \"predictions\"]\n",
    "    ].to_dict()\n",
    "    for wr in workflow_results\n",
    "}\n",
    "for model_name, df_texts in output_texts_per_model.items():\n",
    "    print(f\"Model: {model_name}\")\n",
    "    display(pd.DataFrame(df_texts).head(2))"
   ]
  },
  {
   "cell_type": "code",
   "execution_count": null,
   "id": "41e06bc9-841b-4413-b33e-f1a293189bbf",
   "metadata": {},
   "outputs": [],
   "source": []
  },
  {
   "cell_type": "markdown",
   "id": "30648699",
   "metadata": {},
   "source": [
    "### Models Endpoint\n",
    "- List models supported for task(s)"
   ]
  },
  {
   "cell_type": "code",
   "execution_count": 21,
   "id": "3e0d0847-2a33-4dfb-bdc8-af7b1940a64c",
   "metadata": {},
   "outputs": [
    {
     "name": "stdout",
     "output_type": "stream",
     "text": [
      "facebook/m2m100_418M\n",
      "facebook/m2m100_1.2B\n",
      "Helsinki-NLP/opus-mt\n",
      "bigscience/mt0-base\n",
      "bigscience/mt0-large\n",
      "bigscience/mt0-xl\n",
      "gpt-4o-mini\n",
      "gpt-4o\n",
      "deepseek-reasoner\n",
      "deepseek-chat\n",
      "ministral-8b-latest\n",
      "mistralai/Mistral-7B-Instruct-v0.2\n"
     ]
    }
   ],
   "source": [
    "### Get the list of models supported for translation\n",
    "models_response = client.models.get_suggested_models(tasks=[\"translation\"])\n",
    "for model_config in models_response.items:\n",
    "    print(model_config.model)"
   ]
  },
  {
   "cell_type": "code",
   "execution_count": null,
   "id": "c158861b-9e47-4c85-b385-e2db63807832",
   "metadata": {},
   "outputs": [],
   "source": []
  },
  {
   "cell_type": "code",
   "execution_count": null,
   "id": "46287a01-735c-4b32-b083-a219d7e53473",
   "metadata": {},
   "outputs": [],
   "source": []
  }
 ],
 "metadata": {
  "kernelspec": {
   "display_name": "lumigator-notebook",
   "language": "python",
   "name": "lumigator-notebook"
  },
  "language_info": {
   "codemirror_mode": {
    "name": "ipython",
    "version": 3
   },
   "file_extension": ".py",
   "mimetype": "text/x-python",
   "name": "python",
   "nbconvert_exporter": "python",
   "pygments_lexer": "ipython3",
   "version": "3.11.11"
  }
 },
 "nbformat": 4,
 "nbformat_minor": 5
}
